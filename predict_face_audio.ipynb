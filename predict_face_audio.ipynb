{
 "cells": [
  {
   "cell_type": "code",
   "execution_count": 1,
   "metadata": {},
   "outputs": [
    {
     "name": "stderr",
     "output_type": "stream",
     "text": [
      "Using TensorFlow backend.\n"
     ]
    }
   ],
   "source": [
    "import os\n",
    "from os import listdir\n",
    "\n",
    "import keras\n",
    "import IPython.display as ipd\n",
    "import librosa\n",
    "import librosa.display\n",
    "import numpy as np\n",
    "import pandas as pd\n",
    "import matplotlib.pyplot as plt\n",
    "\n",
    "## Keras\n",
    "from keras import regularizers\n",
    "from keras.models import model_from_json\n",
    "\n",
    "import wave\n",
    "import pyaudio\n",
    "\n",
    "import PIL\n",
    "from PIL import Image\n",
    "import cv2"
   ]
  },
  {
   "cell_type": "code",
   "execution_count": 2,
   "metadata": {},
   "outputs": [
    {
     "name": "stdout",
     "output_type": "stream",
     "text": [
      "WARNING:tensorflow:From C:\\Users\\AAKASH\\Anaconda3\\lib\\site-packages\\keras\\backend\\tensorflow_backend.py:517: The name tf.placeholder is deprecated. Please use tf.compat.v1.placeholder instead.\n",
      "\n",
      "WARNING:tensorflow:From C:\\Users\\AAKASH\\Anaconda3\\lib\\site-packages\\keras\\backend\\tensorflow_backend.py:4138: The name tf.random_uniform is deprecated. Please use tf.random.uniform instead.\n",
      "\n",
      "WARNING:tensorflow:From C:\\Users\\AAKASH\\Anaconda3\\lib\\site-packages\\keras\\backend\\tensorflow_backend.py:245: The name tf.get_default_graph is deprecated. Please use tf.compat.v1.get_default_graph instead.\n",
      "\n",
      "WARNING:tensorflow:From C:\\Users\\AAKASH\\Anaconda3\\lib\\site-packages\\keras\\backend\\tensorflow_backend.py:174: The name tf.get_default_session is deprecated. Please use tf.compat.v1.get_default_session instead.\n",
      "\n",
      "WARNING:tensorflow:From C:\\Users\\AAKASH\\Anaconda3\\lib\\site-packages\\keras\\backend\\tensorflow_backend.py:181: The name tf.ConfigProto is deprecated. Please use tf.compat.v1.ConfigProto instead.\n",
      "\n",
      "WARNING:tensorflow:From C:\\Users\\AAKASH\\Anaconda3\\lib\\site-packages\\keras\\backend\\tensorflow_backend.py:1834: The name tf.nn.fused_batch_norm is deprecated. Please use tf.compat.v1.nn.fused_batch_norm instead.\n",
      "\n",
      "WARNING:tensorflow:From C:\\Users\\AAKASH\\Anaconda3\\lib\\site-packages\\keras\\backend\\tensorflow_backend.py:3976: The name tf.nn.max_pool is deprecated. Please use tf.nn.max_pool2d instead.\n",
      "\n"
     ]
    }
   ],
   "source": [
    "from keras.models import model_from_json\n",
    "json_file = open('saved_models/model_face_final.json', 'r')\n",
    "loaded_model_json = json_file.read()\n",
    "json_file.close()\n",
    "model_face = model_from_json(loaded_model_json)\n",
    "# load weights into new model\n",
    "model_face.load_weights(\"saved_models/model_face_final_weights.h5\")"
   ]
  },
  {
   "cell_type": "code",
   "execution_count": 3,
   "metadata": {},
   "outputs": [
    {
     "name": "stdout",
     "output_type": "stream",
     "text": [
      "WARNING:tensorflow:From C:\\Users\\AAKASH\\Anaconda3\\lib\\site-packages\\keras\\backend\\tensorflow_backend.py:3445: calling dropout (from tensorflow.python.ops.nn_ops) with keep_prob is deprecated and will be removed in a future version.\n",
      "Instructions for updating:\n",
      "Please use `rate` instead of `keep_prob`. Rate should be set to `rate = 1 - keep_prob`.\n"
     ]
    }
   ],
   "source": [
    "from keras.models import model_from_json\n",
    "json_file = open('saved_models/model_audio_aug.json', 'r')\n",
    "loaded_model_json = json_file.read()\n",
    "json_file.close()\n",
    "model_audio = model_from_json(loaded_model_json)\n",
    "# load weights into new model\n",
    "model_audio.load_weights(\"saved_models/model_audio_augweights.h5\")"
   ]
  },
  {
   "cell_type": "code",
   "execution_count": 4,
   "metadata": {},
   "outputs": [],
   "source": [
    "EMOTION_DICT = {0:\"ANGRY\", 1:\"DISGUST\", 2:\"FEAR\", 3:\"HAPPY\", 6:\"NEUTRAL\", 4:\"SAD\", 5:\"SURPRISE\"}\n",
    "# model_top = load_model('C:\\\\Users\\\\AAKASH\\\\Desktop\\\\minor_project\\\\saved_models\\\\model_weights.h5')"
   ]
  },
  {
   "cell_type": "code",
   "execution_count": 5,
   "metadata": {},
   "outputs": [],
   "source": [
    "# function to plot bar graph\n",
    "\n",
    "def plot_bar_graph(probs):\n",
    "    labels = ['Angry', 'Disgust', 'Fear', 'Happy', 'Sad', 'Surprise', 'Neutral']\n",
    "    probs = probs * 100\n",
    "    index = np.arange(len(labels))\n",
    "    plt.bar(index, probs)\n",
    "    plt.xlabel('Emotions')\n",
    "    plt.ylabel('Probability (in %)')\n",
    "    plt.xticks(index, labels, rotation=30)\n",
    "    plt.title('Predicted probabilities vs emotions')\n",
    "    plt.show()"
   ]
  },
  {
   "cell_type": "code",
   "execution_count": 6,
   "metadata": {},
   "outputs": [],
   "source": [
    "def predict_audio():\n",
    "    file = 'images/file.wav'\n",
    "    X, sample_rate = librosa.load(file, res_type='kaiser_fast',duration=3,sr=22050*2,offset=0.5)\n",
    "    sample_rate = np.array(sample_rate)\n",
    "    mfccs = np.mean(librosa.feature.mfcc(y=X, sr=sample_rate, n_mfcc=13), axis=0)\n",
    "    feature = np.array(mfccs)\n",
    "    if(feature.size != 259):\n",
    "        if(feature.size < 259):\n",
    "            temp = np.full((259 - feature.size,), np.mean(feature))\n",
    "            feature = np.concatenate((feature, temp), axis = 0)\n",
    "        else:\n",
    "            feature = feature[: 259 - feature.size]\n",
    "    feature = feature.reshape((1, feature.shape[0], 1))\n",
    "    preds = model_audio.predict(feature)\n",
    "    return preds[0]"
   ]
  },
  {
   "cell_type": "code",
   "execution_count": 7,
   "metadata": {},
   "outputs": [],
   "source": [
    "face_cascade = cv2.CascadeClassifier('haarcascade_frontalface_default.xml') \n",
    "\n",
    "def predict_face():\n",
    "    #converting image to gray scale and save it\n",
    "    images = ['image1.jpg', 'image2.jpg', 'image3.jpg', 'image4.jpg', 'image5.jpg']\n",
    "    for image in images:\n",
    "        path = os.path.join('images', image)\n",
    "        img = cv2.imread(path)\n",
    "        gray = cv2.cvtColor(img, cv2.COLOR_BGR2GRAY)\n",
    "        cv2.imwrite(path, gray)\n",
    "\n",
    "        #detect face in image, crop it then resize it then save it\n",
    "        img = cv2.imread(path)\n",
    "        gray = cv2.cvtColor(img, cv2.COLOR_BGR2GRAY)\n",
    "        faces = face_cascade.detectMultiScale(gray, 1.3, 5)\n",
    "        for (x,y,w,h) in faces:\n",
    "            face_clip = img[y:y+h, x:x+w]\n",
    "            cv2.imwrite(path, cv2.resize(face_clip, (48, 48)))\n",
    "            \n",
    "    cropped_img = []\n",
    "    for image in images:\n",
    "        img = Image.open(os.path.join('images', image))\n",
    "        if(img.size[0] == 48 and img.size[1] == 48):\n",
    "            cropped_img.append(image)\n",
    "            \n",
    "    if(len(cropped_img) == 0):\n",
    "        return 'Try Again'\n",
    "    \n",
    "    #read the processed image then make prediction and display the result\n",
    "    pred_images = []\n",
    "    for image in cropped_img:\n",
    "        path = os.path.join('images', image)\n",
    "        read_image = cv2.imread(path)\n",
    "        read_image = np.array(Image.open(path).convert('L'), dtype=\"int32\")\n",
    "        read_image = read_image.astype('float32')\n",
    "        read_image = read_image / 255.0\n",
    "        read_image = (read_image - 0.5) * 2\n",
    "        read_image = read_image.reshape((48, 48, 1))\n",
    "        read_image_final = read_image.reshape(1, read_image.shape[0], read_image.shape[1], read_image.shape[2])\n",
    "        top_pred = model_face.predict(read_image_final)\n",
    "        pred_images.append(top_pred[0])\n",
    "    \n",
    "    return np.array(np.mean(pred_images, axis = 0))"
   ]
  },
  {
   "cell_type": "code",
   "execution_count": 8,
   "metadata": {},
   "outputs": [],
   "source": [
    "def predict():\n",
    "    preds1 = predict_face()\n",
    "    if(preds1 == 'Try Again'):\n",
    "        preds1 = np.zeros(7)\n",
    "    preds2 = predict_audio()\n",
    "    preds = 0.67*preds1 + 0.33*preds2\n",
    "    return EMOTION_DICT[np.argmax(preds)], preds"
   ]
  },
  {
   "cell_type": "code",
   "execution_count": 9,
   "metadata": {},
   "outputs": [],
   "source": [
    "# FORMAT = pyaudio.paInt16\n",
    "# CHANNELS = 2\n",
    "# RATE = 44100\n",
    "# CHUNK = 1024\n",
    "# RECORD_SECONDS = 4\n",
    "# WAVE_OUTPUT_FILENAME = \"images/file.wav\"\n",
    "    \n",
    "def capture_audio():\n",
    "\n",
    "    FORMAT = pyaudio.paInt16\n",
    "    CHANNELS = 2\n",
    "    RATE = 44100\n",
    "    CHUNK = 1024\n",
    "    RECORD_SECONDS = 4\n",
    "    WAVE_OUTPUT_FILENAME = \"images/file.wav\"\n",
    "    audio = pyaudio.PyAudio()\n",
    "    # start Recording\n",
    "    stream = audio.open(format=FORMAT, channels=CHANNELS,\n",
    "                    rate=RATE, input=True,\n",
    "                    frames_per_buffer=CHUNK)\n",
    "    print (\"recording...\")\n",
    "    frames = []\n",
    "\n",
    "    for i in range(0, int(RATE / CHUNK * RECORD_SECONDS)):\n",
    "        data = stream.read(CHUNK)\n",
    "        frames.append(data)\n",
    "    print (\"finished recording\")\n",
    "\n",
    "\n",
    "    # stop Recording\n",
    "    stream.stop_stream()\n",
    "    stream.close()\n",
    "    audio.terminate()\n",
    "\n",
    "    waveFile = wave.open(WAVE_OUTPUT_FILENAME, 'wb')\n",
    "    waveFile.setnchannels(CHANNELS)\n",
    "    waveFile.setsampwidth(audio.get_sample_size(FORMAT))\n",
    "    waveFile.setframerate(RATE)\n",
    "    waveFile.writeframes(b''.join(frames))\n",
    "    waveFile.close()\n",
    "\n",
    "# predict('file.wav')\n"
   ]
  },
  {
   "cell_type": "code",
   "execution_count": 10,
   "metadata": {},
   "outputs": [],
   "source": [
    "import cv2\n",
    "import time\n",
    "\n",
    "# vidcap = cv2.VideoCapture(0)\n",
    "\n",
    "def capture_images():    \n",
    "    def getFrame():\n",
    "    #     vidcap.set(cv2.CAP_PROP_POS_MSEC,sec*1000)\n",
    "        hasFrames,image = vidcap.read()\n",
    "        if hasFrames:\n",
    "            cv2.imwrite(\"images/image\"+str(count)+\".jpg\", image)     # save frame as JPG file\n",
    "        return hasFrames\n",
    "    sec = 0\n",
    "    frameRate = 0.5 #//it will capture image in each 0.5 second\n",
    "    count=1\n",
    "    success = getFrame()\n",
    "    cont = True\n",
    "    while success and cont:\n",
    "        count = count + 1\n",
    "    #     sec = sec + frameRate\n",
    "    #     sec = round(sec, 2)\n",
    "        success = getFrame()\n",
    "        time.sleep(1/2)\n",
    "        if count == 5:\n",
    "            cont = False\n",
    "\n",
    "    # Close the window / Release webcam \n",
    "    vidcap.release()   \n",
    "    # De-allocate any associated memory usage  \n",
    "    cv2.destroyAllWindows() "
   ]
  },
  {
   "cell_type": "code",
   "execution_count": 11,
   "metadata": {},
   "outputs": [],
   "source": [
    "# capture_images()"
   ]
  },
  {
   "cell_type": "code",
   "execution_count": 13,
   "metadata": {},
   "outputs": [
    {
     "name": "stdout",
     "output_type": "stream",
     "text": [
      "recording...\n",
      "finished recording\n",
      "4\n"
     ]
    },
    {
     "name": "stderr",
     "output_type": "stream",
     "text": [
      "C:\\Users\\AAKASH\\Anaconda3\\lib\\site-packages\\ipykernel_launcher.py:3: FutureWarning: elementwise comparison failed; returning scalar instead, but in the future will perform elementwise comparison\n",
      "  This is separate from the ipykernel package so we can avoid doing imports until\n"
     ]
    },
    {
     "name": "stdout",
     "output_type": "stream",
     "text": [
      "Predicted emotion:  HAPPY\n"
     ]
    },
    {
     "data": {
      "image/png": "[encoded data removed]",
      "text/plain": [
       "<Figure size 432x288 with 1 Axes>"
      ]
     },
     "metadata": {
      "needs_background": "light"
     },
     "output_type": "display_data"
    }
   ],
   "source": [
    "import threading\n",
    "import datetime\n",
    "\n",
    "vidcap = cv2.VideoCapture(0)\n",
    "\n",
    "t1 = threading.Thread(target = capture_images, name = 'thread1')\n",
    "t2 = threading.Thread(target = capture_audio, name = 'thread2')\n",
    "a = datetime.datetime.now()\n",
    "t1.start()\n",
    "t2.start()\n",
    "t1.join()\n",
    "t2.join()\n",
    "b = datetime.datetime.now()\n",
    "print((b-a).seconds)\n",
    "\n",
    "x, y = predict()\n",
    "print('Predicted emotion: ', x)\n",
    "plot_bar_graph(y)\n",
    "# predict('face_test.jpg', 'audio_test.wav')"
   ]
  }
 ],
 "metadata": {
  "kernelspec": {
   "display_name": "Python 3",
   "language": "python",
   "name": "python3"
  },
  "language_info": {
   "codemirror_mode": {
    "name": "ipython",
    "version": 3
   },
   "file_extension": ".py",
   "mimetype": "text/x-python",
   "name": "python",
   "nbconvert_exporter": "python",
   "pygments_lexer": "ipython3",
   "version": "3.7.4"
  }
 },
 "nbformat": 4,
 "nbformat_minor": 2
}
