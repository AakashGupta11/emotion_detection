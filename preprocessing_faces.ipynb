{
 "cells": [
  {
   "cell_type": "code",
   "execution_count": 1,
   "metadata": {},
   "outputs": [],
   "source": [
    "#importing the libraries\n",
    "\n",
    "from os import listdir\n",
    "import os\n",
    "import numpy as np\n",
    "import pandas as pd\n",
    "from PIL import Image\n",
    "from sklearn.model_selection import train_test_split\n",
    "import seaborn as sns\n",
    "import cv2\n",
    "import matplotlib.pyplot as plt\n",
    "from prettytable import PrettyTable\n",
    "import PIL\n",
    "from skimage import color\n",
    "from skimage import io"
   ]
  },
  {
   "cell_type": "code",
   "execution_count": 2,
   "metadata": {},
   "outputs": [],
   "source": [
    "face_data_path = 'D:\\\\Aakash\\\\Documents\\\\temp\\\\emotion detection dataset\\\\final facial dataset\\\\data'"
   ]
  },
  {
   "cell_type": "code",
   "execution_count": 3,
   "metadata": {},
   "outputs": [],
   "source": [
    "# function to make dataframe of a given emotion\n",
    "# containing folder_path, images, emotion and label\n",
    "\n",
    "def make_dataframe(emotion, label):\n",
    "    \n",
    "    images_list = listdir(os.path.join(face_data_path, emotion))\n",
    "    folder_path_list = [os.path.join(face_data_path, emotion)] * len(images_list)\n",
    "    label_list = [label] * len(images_list)\n",
    "    \n",
    "    df_emotion = pd.DataFrame()\n",
    "    df_emotion['folders_path'] = folder_path_list\n",
    "    df_emotion['images'] = images_list\n",
    "    df_emotion['emotion'] = label_list\n",
    "    \n",
    "    return df_emotion"
   ]
  },
  {
   "cell_type": "markdown",
   "metadata": {},
   "source": [
    "__Anger__"
   ]
  },
  {
   "cell_type": "code",
   "execution_count": 4,
   "metadata": {},
   "outputs": [
    {
     "name": "stdout",
     "output_type": "stream",
     "text": [
      "Number of images of angery emotion:  1070\n"
     ]
    }
   ],
   "source": [
    "# making dataframe of anger\n",
    "\n",
    "df_anger = make_dataframe('anger', 0)\n",
    "print('Number of images of angery emotion: ', len(df_anger))"
   ]
  },
  {
   "cell_type": "code",
   "execution_count": 5,
   "metadata": {},
   "outputs": [
    {
     "data": {
      "text/html": [
       "<div>\n",
       "<style scoped>\n",
       "    .dataframe tbody tr th:only-of-type {\n",
       "        vertical-align: middle;\n",
       "    }\n",
       "\n",
       "    .dataframe tbody tr th {\n",
       "        vertical-align: top;\n",
       "    }\n",
       "\n",
       "    .dataframe thead th {\n",
       "        text-align: right;\n",
       "    }\n",
       "</style>\n",
       "<table border=\"1\" class=\"dataframe\">\n",
       "  <thead>\n",
       "    <tr style=\"text-align: right;\">\n",
       "      <th></th>\n",
       "      <th>folders_path</th>\n",
       "      <th>images</th>\n",
       "      <th>emotion</th>\n",
       "    </tr>\n",
       "  </thead>\n",
       "  <tbody>\n",
       "    <tr>\n",
       "      <td>0</td>\n",
       "      <td>D:\\Aakash\\Documents\\temp\\emotion detection dat...</td>\n",
       "      <td>1016_0_c.jpg</td>\n",
       "      <td>0</td>\n",
       "    </tr>\n",
       "    <tr>\n",
       "      <td>1</td>\n",
       "      <td>D:\\Aakash\\Documents\\temp\\emotion detection dat...</td>\n",
       "      <td>1017_0_c.jpg</td>\n",
       "      <td>0</td>\n",
       "    </tr>\n",
       "    <tr>\n",
       "      <td>2</td>\n",
       "      <td>D:\\Aakash\\Documents\\temp\\emotion detection dat...</td>\n",
       "      <td>1019_0_c.jpg</td>\n",
       "      <td>0</td>\n",
       "    </tr>\n",
       "    <tr>\n",
       "      <td>3</td>\n",
       "      <td>D:\\Aakash\\Documents\\temp\\emotion detection dat...</td>\n",
       "      <td>1025_0_c.jpg</td>\n",
       "      <td>0</td>\n",
       "    </tr>\n",
       "    <tr>\n",
       "      <td>4</td>\n",
       "      <td>D:\\Aakash\\Documents\\temp\\emotion detection dat...</td>\n",
       "      <td>1040_0_c.jpg</td>\n",
       "      <td>0</td>\n",
       "    </tr>\n",
       "  </tbody>\n",
       "</table>\n",
       "</div>"
      ],
      "text/plain": [
       "                                        folders_path        images  emotion\n",
       "0  D:\\Aakash\\Documents\\temp\\emotion detection dat...  1016_0_c.jpg        0\n",
       "1  D:\\Aakash\\Documents\\temp\\emotion detection dat...  1017_0_c.jpg        0\n",
       "2  D:\\Aakash\\Documents\\temp\\emotion detection dat...  1019_0_c.jpg        0\n",
       "3  D:\\Aakash\\Documents\\temp\\emotion detection dat...  1025_0_c.jpg        0\n",
       "4  D:\\Aakash\\Documents\\temp\\emotion detection dat...  1040_0_c.jpg        0"
      ]
     },
     "execution_count": 5,
     "metadata": {},
     "output_type": "execute_result"
    }
   ],
   "source": [
    "df_anger.head()"
   ]
  },
  {
   "cell_type": "markdown",
   "metadata": {},
   "source": [
    "__Disgust__"
   ]
  },
  {
   "cell_type": "code",
   "execution_count": 6,
   "metadata": {},
   "outputs": [
    {
     "name": "stdout",
     "output_type": "stream",
     "text": [
      "Number of images of disgust emotion:  1377\n"
     ]
    }
   ],
   "source": [
    "# making dataframe of disgust\n",
    "\n",
    "df_disgust = make_dataframe('disgust', 1)\n",
    "print('Number of images of disgust emotion: ', len(df_disgust))"
   ]
  },
  {
   "cell_type": "code",
   "execution_count": 7,
   "metadata": {},
   "outputs": [
    {
     "data": {
      "text/html": [
       "<div>\n",
       "<style scoped>\n",
       "    .dataframe tbody tr th:only-of-type {\n",
       "        vertical-align: middle;\n",
       "    }\n",
       "\n",
       "    .dataframe tbody tr th {\n",
       "        vertical-align: top;\n",
       "    }\n",
       "\n",
       "    .dataframe thead th {\n",
       "        text-align: right;\n",
       "    }\n",
       "</style>\n",
       "<table border=\"1\" class=\"dataframe\">\n",
       "  <thead>\n",
       "    <tr style=\"text-align: right;\">\n",
       "      <th></th>\n",
       "      <th>folders_path</th>\n",
       "      <th>images</th>\n",
       "      <th>emotion</th>\n",
       "    </tr>\n",
       "  </thead>\n",
       "  <tbody>\n",
       "    <tr>\n",
       "      <td>0</td>\n",
       "      <td>D:\\Aakash\\Documents\\temp\\emotion detection dat...</td>\n",
       "      <td>10019_1.jpg</td>\n",
       "      <td>1</td>\n",
       "    </tr>\n",
       "    <tr>\n",
       "      <td>1</td>\n",
       "      <td>D:\\Aakash\\Documents\\temp\\emotion detection dat...</td>\n",
       "      <td>10023_1.jpg</td>\n",
       "      <td>1</td>\n",
       "    </tr>\n",
       "    <tr>\n",
       "      <td>2</td>\n",
       "      <td>D:\\Aakash\\Documents\\temp\\emotion detection dat...</td>\n",
       "      <td>10054_1.jpg</td>\n",
       "      <td>1</td>\n",
       "    </tr>\n",
       "    <tr>\n",
       "      <td>3</td>\n",
       "      <td>D:\\Aakash\\Documents\\temp\\emotion detection dat...</td>\n",
       "      <td>10113_1.jpg</td>\n",
       "      <td>1</td>\n",
       "    </tr>\n",
       "    <tr>\n",
       "      <td>4</td>\n",
       "      <td>D:\\Aakash\\Documents\\temp\\emotion detection dat...</td>\n",
       "      <td>10138_1.jpg</td>\n",
       "      <td>1</td>\n",
       "    </tr>\n",
       "  </tbody>\n",
       "</table>\n",
       "</div>"
      ],
      "text/plain": [
       "                                        folders_path       images  emotion\n",
       "0  D:\\Aakash\\Documents\\temp\\emotion detection dat...  10019_1.jpg        1\n",
       "1  D:\\Aakash\\Documents\\temp\\emotion detection dat...  10023_1.jpg        1\n",
       "2  D:\\Aakash\\Documents\\temp\\emotion detection dat...  10054_1.jpg        1\n",
       "3  D:\\Aakash\\Documents\\temp\\emotion detection dat...  10113_1.jpg        1\n",
       "4  D:\\Aakash\\Documents\\temp\\emotion detection dat...  10138_1.jpg        1"
      ]
     },
     "execution_count": 7,
     "metadata": {},
     "output_type": "execute_result"
    }
   ],
   "source": [
    "df_disgust.head()"
   ]
  },
  {
   "cell_type": "markdown",
   "metadata": {},
   "source": [
    "__Fear__"
   ]
  },
  {
   "cell_type": "code",
   "execution_count": 8,
   "metadata": {},
   "outputs": [
    {
     "name": "stdout",
     "output_type": "stream",
     "text": [
      "Number of images of fear emotion:  902\n"
     ]
    }
   ],
   "source": [
    "# making dataframe of fear\n",
    "\n",
    "df_fear = make_dataframe('fear', 2)\n",
    "print('Number of images of fear emotion: ', len(df_fear))"
   ]
  },
  {
   "cell_type": "code",
   "execution_count": 9,
   "metadata": {},
   "outputs": [
    {
     "data": {
      "text/html": [
       "<div>\n",
       "<style scoped>\n",
       "    .dataframe tbody tr th:only-of-type {\n",
       "        vertical-align: middle;\n",
       "    }\n",
       "\n",
       "    .dataframe tbody tr th {\n",
       "        vertical-align: top;\n",
       "    }\n",
       "\n",
       "    .dataframe thead th {\n",
       "        text-align: right;\n",
       "    }\n",
       "</style>\n",
       "<table border=\"1\" class=\"dataframe\">\n",
       "  <thead>\n",
       "    <tr style=\"text-align: right;\">\n",
       "      <th></th>\n",
       "      <th>folders_path</th>\n",
       "      <th>images</th>\n",
       "      <th>emotion</th>\n",
       "    </tr>\n",
       "  </thead>\n",
       "  <tbody>\n",
       "    <tr>\n",
       "      <td>0</td>\n",
       "      <td>D:\\Aakash\\Documents\\temp\\emotion detection dat...</td>\n",
       "      <td>1009_2_c.jpg</td>\n",
       "      <td>2</td>\n",
       "    </tr>\n",
       "    <tr>\n",
       "      <td>1</td>\n",
       "      <td>D:\\Aakash\\Documents\\temp\\emotion detection dat...</td>\n",
       "      <td>1014_2_c.jpg</td>\n",
       "      <td>2</td>\n",
       "    </tr>\n",
       "    <tr>\n",
       "      <td>2</td>\n",
       "      <td>D:\\Aakash\\Documents\\temp\\emotion detection dat...</td>\n",
       "      <td>1026_2_c.jpg</td>\n",
       "      <td>2</td>\n",
       "    </tr>\n",
       "    <tr>\n",
       "      <td>3</td>\n",
       "      <td>D:\\Aakash\\Documents\\temp\\emotion detection dat...</td>\n",
       "      <td>102_2_c.jpg</td>\n",
       "      <td>2</td>\n",
       "    </tr>\n",
       "    <tr>\n",
       "      <td>4</td>\n",
       "      <td>D:\\Aakash\\Documents\\temp\\emotion detection dat...</td>\n",
       "      <td>1035_2_c.jpg</td>\n",
       "      <td>2</td>\n",
       "    </tr>\n",
       "  </tbody>\n",
       "</table>\n",
       "</div>"
      ],
      "text/plain": [
       "                                        folders_path        images  emotion\n",
       "0  D:\\Aakash\\Documents\\temp\\emotion detection dat...  1009_2_c.jpg        2\n",
       "1  D:\\Aakash\\Documents\\temp\\emotion detection dat...  1014_2_c.jpg        2\n",
       "2  D:\\Aakash\\Documents\\temp\\emotion detection dat...  1026_2_c.jpg        2\n",
       "3  D:\\Aakash\\Documents\\temp\\emotion detection dat...   102_2_c.jpg        2\n",
       "4  D:\\Aakash\\Documents\\temp\\emotion detection dat...  1035_2_c.jpg        2"
      ]
     },
     "execution_count": 9,
     "metadata": {},
     "output_type": "execute_result"
    }
   ],
   "source": [
    "df_fear.head()"
   ]
  },
  {
   "cell_type": "markdown",
   "metadata": {},
   "source": [
    "__Happiness__"
   ]
  },
  {
   "cell_type": "code",
   "execution_count": 10,
   "metadata": {},
   "outputs": [
    {
     "name": "stdout",
     "output_type": "stream",
     "text": [
      "Number of images of happy emotion:  1034\n"
     ]
    }
   ],
   "source": [
    "# making dataframe of happiness\n",
    "\n",
    "df_happy = make_dataframe('happiness', 3)\n",
    "print('Number of images of happy emotion: ', len(df_happy))"
   ]
  },
  {
   "cell_type": "code",
   "execution_count": 11,
   "metadata": {},
   "outputs": [
    {
     "data": {
      "text/html": [
       "<div>\n",
       "<style scoped>\n",
       "    .dataframe tbody tr th:only-of-type {\n",
       "        vertical-align: middle;\n",
       "    }\n",
       "\n",
       "    .dataframe tbody tr th {\n",
       "        vertical-align: top;\n",
       "    }\n",
       "\n",
       "    .dataframe thead th {\n",
       "        text-align: right;\n",
       "    }\n",
       "</style>\n",
       "<table border=\"1\" class=\"dataframe\">\n",
       "  <thead>\n",
       "    <tr style=\"text-align: right;\">\n",
       "      <th></th>\n",
       "      <th>folders_path</th>\n",
       "      <th>images</th>\n",
       "      <th>emotion</th>\n",
       "    </tr>\n",
       "  </thead>\n",
       "  <tbody>\n",
       "    <tr>\n",
       "      <td>0</td>\n",
       "      <td>D:\\Aakash\\Documents\\temp\\emotion detection dat...</td>\n",
       "      <td>Aaron_Guiel_0001.jpg</td>\n",
       "      <td>3</td>\n",
       "    </tr>\n",
       "    <tr>\n",
       "      <td>1</td>\n",
       "      <td>D:\\Aakash\\Documents\\temp\\emotion detection dat...</td>\n",
       "      <td>Aaron_Peirsol_0001.jpg</td>\n",
       "      <td>3</td>\n",
       "    </tr>\n",
       "    <tr>\n",
       "      <td>2</td>\n",
       "      <td>D:\\Aakash\\Documents\\temp\\emotion detection dat...</td>\n",
       "      <td>Aaron_Peirsol_0002.jpg</td>\n",
       "      <td>3</td>\n",
       "    </tr>\n",
       "    <tr>\n",
       "      <td>3</td>\n",
       "      <td>D:\\Aakash\\Documents\\temp\\emotion detection dat...</td>\n",
       "      <td>Aaron_Peirsol_0003.jpg</td>\n",
       "      <td>3</td>\n",
       "    </tr>\n",
       "    <tr>\n",
       "      <td>4</td>\n",
       "      <td>D:\\Aakash\\Documents\\temp\\emotion detection dat...</td>\n",
       "      <td>Aaron_Sorkin_0001.jpg</td>\n",
       "      <td>3</td>\n",
       "    </tr>\n",
       "  </tbody>\n",
       "</table>\n",
       "</div>"
      ],
      "text/plain": [
       "                                        folders_path                  images  \\\n",
       "0  D:\\Aakash\\Documents\\temp\\emotion detection dat...    Aaron_Guiel_0001.jpg   \n",
       "1  D:\\Aakash\\Documents\\temp\\emotion detection dat...  Aaron_Peirsol_0001.jpg   \n",
       "2  D:\\Aakash\\Documents\\temp\\emotion detection dat...  Aaron_Peirsol_0002.jpg   \n",
       "3  D:\\Aakash\\Documents\\temp\\emotion detection dat...  Aaron_Peirsol_0003.jpg   \n",
       "4  D:\\Aakash\\Documents\\temp\\emotion detection dat...   Aaron_Sorkin_0001.jpg   \n",
       "\n",
       "   emotion  \n",
       "0        3  \n",
       "1        3  \n",
       "2        3  \n",
       "3        3  \n",
       "4        3  "
      ]
     },
     "execution_count": 11,
     "metadata": {},
     "output_type": "execute_result"
    }
   ],
   "source": [
    "df_happy.head()"
   ]
  },
  {
   "cell_type": "markdown",
   "metadata": {},
   "source": [
    "__Neutral__"
   ]
  },
  {
   "cell_type": "code",
   "execution_count": 12,
   "metadata": {},
   "outputs": [
    {
     "name": "stdout",
     "output_type": "stream",
     "text": [
      "Number of images of neutral emotion:  1000\n"
     ]
    }
   ],
   "source": [
    "# making dataframe of neutral\n",
    "\n",
    "df_neutral = make_dataframe('neutral', 6)\n",
    "print('Number of images of neutral emotion: ', len(df_neutral))"
   ]
  },
  {
   "cell_type": "code",
   "execution_count": 13,
   "metadata": {},
   "outputs": [
    {
     "data": {
      "text/html": [
       "<div>\n",
       "<style scoped>\n",
       "    .dataframe tbody tr th:only-of-type {\n",
       "        vertical-align: middle;\n",
       "    }\n",
       "\n",
       "    .dataframe tbody tr th {\n",
       "        vertical-align: top;\n",
       "    }\n",
       "\n",
       "    .dataframe thead th {\n",
       "        text-align: right;\n",
       "    }\n",
       "</style>\n",
       "<table border=\"1\" class=\"dataframe\">\n",
       "  <thead>\n",
       "    <tr style=\"text-align: right;\">\n",
       "      <th></th>\n",
       "      <th>folders_path</th>\n",
       "      <th>images</th>\n",
       "      <th>emotion</th>\n",
       "    </tr>\n",
       "  </thead>\n",
       "  <tbody>\n",
       "    <tr>\n",
       "      <td>0</td>\n",
       "      <td>D:\\Aakash\\Documents\\temp\\emotion detection dat...</td>\n",
       "      <td>Aaron_Eckhart_0001.jpg</td>\n",
       "      <td>6</td>\n",
       "    </tr>\n",
       "    <tr>\n",
       "      <td>1</td>\n",
       "      <td>D:\\Aakash\\Documents\\temp\\emotion detection dat...</td>\n",
       "      <td>Aaron_Patterson_0001.jpg</td>\n",
       "      <td>6</td>\n",
       "    </tr>\n",
       "    <tr>\n",
       "      <td>2</td>\n",
       "      <td>D:\\Aakash\\Documents\\temp\\emotion detection dat...</td>\n",
       "      <td>Aaron_Peirsol_0004.jpg</td>\n",
       "      <td>6</td>\n",
       "    </tr>\n",
       "    <tr>\n",
       "      <td>3</td>\n",
       "      <td>D:\\Aakash\\Documents\\temp\\emotion detection dat...</td>\n",
       "      <td>Aaron_Pena_0001.jpg</td>\n",
       "      <td>6</td>\n",
       "    </tr>\n",
       "    <tr>\n",
       "      <td>4</td>\n",
       "      <td>D:\\Aakash\\Documents\\temp\\emotion detection dat...</td>\n",
       "      <td>Aaron_Tippin_0001.jpg</td>\n",
       "      <td>6</td>\n",
       "    </tr>\n",
       "  </tbody>\n",
       "</table>\n",
       "</div>"
      ],
      "text/plain": [
       "                                        folders_path  \\\n",
       "0  D:\\Aakash\\Documents\\temp\\emotion detection dat...   \n",
       "1  D:\\Aakash\\Documents\\temp\\emotion detection dat...   \n",
       "2  D:\\Aakash\\Documents\\temp\\emotion detection dat...   \n",
       "3  D:\\Aakash\\Documents\\temp\\emotion detection dat...   \n",
       "4  D:\\Aakash\\Documents\\temp\\emotion detection dat...   \n",
       "\n",
       "                     images  emotion  \n",
       "0    Aaron_Eckhart_0001.jpg        6  \n",
       "1  Aaron_Patterson_0001.jpg        6  \n",
       "2    Aaron_Peirsol_0004.jpg        6  \n",
       "3       Aaron_Pena_0001.jpg        6  \n",
       "4     Aaron_Tippin_0001.jpg        6  "
      ]
     },
     "execution_count": 13,
     "metadata": {},
     "output_type": "execute_result"
    }
   ],
   "source": [
    "df_neutral.head()"
   ]
  },
  {
   "cell_type": "markdown",
   "metadata": {},
   "source": [
    "__Sadness__"
   ]
  },
  {
   "cell_type": "code",
   "execution_count": 14,
   "metadata": {},
   "outputs": [
    {
     "name": "stdout",
     "output_type": "stream",
     "text": [
      "Number of images of sad emotion:  457\n"
     ]
    }
   ],
   "source": [
    "# making dataframe of sad\n",
    "\n",
    "df_sad = make_dataframe('sadness', 4)\n",
    "print('Number of images of sad emotion: ', len(df_sad))"
   ]
  },
  {
   "cell_type": "code",
   "execution_count": 15,
   "metadata": {},
   "outputs": [
    {
     "data": {
      "text/html": [
       "<div>\n",
       "<style scoped>\n",
       "    .dataframe tbody tr th:only-of-type {\n",
       "        vertical-align: middle;\n",
       "    }\n",
       "\n",
       "    .dataframe tbody tr th {\n",
       "        vertical-align: top;\n",
       "    }\n",
       "\n",
       "    .dataframe thead th {\n",
       "        text-align: right;\n",
       "    }\n",
       "</style>\n",
       "<table border=\"1\" class=\"dataframe\">\n",
       "  <thead>\n",
       "    <tr style=\"text-align: right;\">\n",
       "      <th></th>\n",
       "      <th>folders_path</th>\n",
       "      <th>images</th>\n",
       "      <th>emotion</th>\n",
       "    </tr>\n",
       "  </thead>\n",
       "  <tbody>\n",
       "    <tr>\n",
       "      <td>0</td>\n",
       "      <td>D:\\Aakash\\Documents\\temp\\emotion detection dat...</td>\n",
       "      <td>aia_sadness_1.png</td>\n",
       "      <td>4</td>\n",
       "    </tr>\n",
       "    <tr>\n",
       "      <td>1</td>\n",
       "      <td>D:\\Aakash\\Documents\\temp\\emotion detection dat...</td>\n",
       "      <td>aia_sadness_125.png</td>\n",
       "      <td>4</td>\n",
       "    </tr>\n",
       "    <tr>\n",
       "      <td>2</td>\n",
       "      <td>D:\\Aakash\\Documents\\temp\\emotion detection dat...</td>\n",
       "      <td>aia_sadness_1365.png</td>\n",
       "      <td>4</td>\n",
       "    </tr>\n",
       "    <tr>\n",
       "      <td>3</td>\n",
       "      <td>D:\\Aakash\\Documents\\temp\\emotion detection dat...</td>\n",
       "      <td>aia_sadness_216.png</td>\n",
       "      <td>4</td>\n",
       "    </tr>\n",
       "    <tr>\n",
       "      <td>4</td>\n",
       "      <td>D:\\Aakash\\Documents\\temp\\emotion detection dat...</td>\n",
       "      <td>aia_sadness_236.png</td>\n",
       "      <td>4</td>\n",
       "    </tr>\n",
       "  </tbody>\n",
       "</table>\n",
       "</div>"
      ],
      "text/plain": [
       "                                        folders_path                images  \\\n",
       "0  D:\\Aakash\\Documents\\temp\\emotion detection dat...     aia_sadness_1.png   \n",
       "1  D:\\Aakash\\Documents\\temp\\emotion detection dat...   aia_sadness_125.png   \n",
       "2  D:\\Aakash\\Documents\\temp\\emotion detection dat...  aia_sadness_1365.png   \n",
       "3  D:\\Aakash\\Documents\\temp\\emotion detection dat...   aia_sadness_216.png   \n",
       "4  D:\\Aakash\\Documents\\temp\\emotion detection dat...   aia_sadness_236.png   \n",
       "\n",
       "   emotion  \n",
       "0        4  \n",
       "1        4  \n",
       "2        4  \n",
       "3        4  \n",
       "4        4  "
      ]
     },
     "execution_count": 15,
     "metadata": {},
     "output_type": "execute_result"
    }
   ],
   "source": [
    "df_sad.head()"
   ]
  },
  {
   "cell_type": "markdown",
   "metadata": {},
   "source": [
    "__Surprise__"
   ]
  },
  {
   "cell_type": "code",
   "execution_count": 16,
   "metadata": {},
   "outputs": [
    {
     "name": "stdout",
     "output_type": "stream",
     "text": [
      "Number of images of surprise emotion:  2008\n"
     ]
    }
   ],
   "source": [
    "# making dataframe of surprise\n",
    "\n",
    "df_surprise = make_dataframe('surprise', 5)\n",
    "print('Number of images of surprise emotion: ', len(df_surprise))"
   ]
  },
  {
   "cell_type": "code",
   "execution_count": 17,
   "metadata": {},
   "outputs": [
    {
     "data": {
      "text/html": [
       "<div>\n",
       "<style scoped>\n",
       "    .dataframe tbody tr th:only-of-type {\n",
       "        vertical-align: middle;\n",
       "    }\n",
       "\n",
       "    .dataframe tbody tr th {\n",
       "        vertical-align: top;\n",
       "    }\n",
       "\n",
       "    .dataframe thead th {\n",
       "        text-align: right;\n",
       "    }\n",
       "</style>\n",
       "<table border=\"1\" class=\"dataframe\">\n",
       "  <thead>\n",
       "    <tr style=\"text-align: right;\">\n",
       "      <th></th>\n",
       "      <th>folders_path</th>\n",
       "      <th>images</th>\n",
       "      <th>emotion</th>\n",
       "    </tr>\n",
       "  </thead>\n",
       "  <tbody>\n",
       "    <tr>\n",
       "      <td>0</td>\n",
       "      <td>D:\\Aakash\\Documents\\temp\\emotion detection dat...</td>\n",
       "      <td>10008_5_c.jpg</td>\n",
       "      <td>5</td>\n",
       "    </tr>\n",
       "    <tr>\n",
       "      <td>1</td>\n",
       "      <td>D:\\Aakash\\Documents\\temp\\emotion detection dat...</td>\n",
       "      <td>10010_5_c.jpg</td>\n",
       "      <td>5</td>\n",
       "    </tr>\n",
       "    <tr>\n",
       "      <td>2</td>\n",
       "      <td>D:\\Aakash\\Documents\\temp\\emotion detection dat...</td>\n",
       "      <td>10012_5_c.jpg</td>\n",
       "      <td>5</td>\n",
       "    </tr>\n",
       "    <tr>\n",
       "      <td>3</td>\n",
       "      <td>D:\\Aakash\\Documents\\temp\\emotion detection dat...</td>\n",
       "      <td>10014_5_c.jpg</td>\n",
       "      <td>5</td>\n",
       "    </tr>\n",
       "    <tr>\n",
       "      <td>4</td>\n",
       "      <td>D:\\Aakash\\Documents\\temp\\emotion detection dat...</td>\n",
       "      <td>10057_5_c.jpg</td>\n",
       "      <td>5</td>\n",
       "    </tr>\n",
       "  </tbody>\n",
       "</table>\n",
       "</div>"
      ],
      "text/plain": [
       "                                        folders_path         images  emotion\n",
       "0  D:\\Aakash\\Documents\\temp\\emotion detection dat...  10008_5_c.jpg        5\n",
       "1  D:\\Aakash\\Documents\\temp\\emotion detection dat...  10010_5_c.jpg        5\n",
       "2  D:\\Aakash\\Documents\\temp\\emotion detection dat...  10012_5_c.jpg        5\n",
       "3  D:\\Aakash\\Documents\\temp\\emotion detection dat...  10014_5_c.jpg        5\n",
       "4  D:\\Aakash\\Documents\\temp\\emotion detection dat...  10057_5_c.jpg        5"
      ]
     },
     "execution_count": 17,
     "metadata": {},
     "output_type": "execute_result"
    }
   ],
   "source": [
    "df_surprise.head()"
   ]
  },
  {
   "cell_type": "code",
   "execution_count": 18,
   "metadata": {},
   "outputs": [
    {
     "data": {
      "text/plain": [
       "(7848, 3)"
      ]
     },
     "execution_count": 18,
     "metadata": {},
     "output_type": "execute_result"
    }
   ],
   "source": [
    "#appending dataframes of all emotions\n",
    "\n",
    "dataframes = [df_anger, df_disgust, df_fear, df_happy, df_neutral, df_sad, df_surprise]\n",
    "df = pd.concat(dataframes, ignore_index = True)\n",
    "df.shape"
   ]
  },
  {
   "cell_type": "code",
   "execution_count": 20,
   "metadata": {},
   "outputs": [
    {
     "data": {
      "text/html": [
       "<div>\n",
       "<style scoped>\n",
       "    .dataframe tbody tr th:only-of-type {\n",
       "        vertical-align: middle;\n",
       "    }\n",
       "\n",
       "    .dataframe tbody tr th {\n",
       "        vertical-align: top;\n",
       "    }\n",
       "\n",
       "    .dataframe thead th {\n",
       "        text-align: right;\n",
       "    }\n",
       "</style>\n",
       "<table border=\"1\" class=\"dataframe\">\n",
       "  <thead>\n",
       "    <tr style=\"text-align: right;\">\n",
       "      <th></th>\n",
       "      <th>folders_path</th>\n",
       "      <th>images</th>\n",
       "      <th>emotion</th>\n",
       "    </tr>\n",
       "  </thead>\n",
       "  <tbody>\n",
       "    <tr>\n",
       "      <td>0</td>\n",
       "      <td>D:\\Aakash\\Documents\\temp\\emotion detection dat...</td>\n",
       "      <td>1016_0_c.jpg</td>\n",
       "      <td>0</td>\n",
       "    </tr>\n",
       "    <tr>\n",
       "      <td>1</td>\n",
       "      <td>D:\\Aakash\\Documents\\temp\\emotion detection dat...</td>\n",
       "      <td>1017_0_c.jpg</td>\n",
       "      <td>0</td>\n",
       "    </tr>\n",
       "    <tr>\n",
       "      <td>2</td>\n",
       "      <td>D:\\Aakash\\Documents\\temp\\emotion detection dat...</td>\n",
       "      <td>1019_0_c.jpg</td>\n",
       "      <td>0</td>\n",
       "    </tr>\n",
       "    <tr>\n",
       "      <td>3</td>\n",
       "      <td>D:\\Aakash\\Documents\\temp\\emotion detection dat...</td>\n",
       "      <td>1025_0_c.jpg</td>\n",
       "      <td>0</td>\n",
       "    </tr>\n",
       "    <tr>\n",
       "      <td>4</td>\n",
       "      <td>D:\\Aakash\\Documents\\temp\\emotion detection dat...</td>\n",
       "      <td>1040_0_c.jpg</td>\n",
       "      <td>0</td>\n",
       "    </tr>\n",
       "  </tbody>\n",
       "</table>\n",
       "</div>"
      ],
      "text/plain": [
       "                                        folders_path        images  emotion\n",
       "0  D:\\Aakash\\Documents\\temp\\emotion detection dat...  1016_0_c.jpg        0\n",
       "1  D:\\Aakash\\Documents\\temp\\emotion detection dat...  1017_0_c.jpg        0\n",
       "2  D:\\Aakash\\Documents\\temp\\emotion detection dat...  1019_0_c.jpg        0\n",
       "3  D:\\Aakash\\Documents\\temp\\emotion detection dat...  1025_0_c.jpg        0\n",
       "4  D:\\Aakash\\Documents\\temp\\emotion detection dat...  1040_0_c.jpg        0"
      ]
     },
     "execution_count": 20,
     "metadata": {},
     "output_type": "execute_result"
    }
   ],
   "source": [
    "df.head()"
   ]
  },
  {
   "cell_type": "markdown",
   "metadata": {},
   "source": [
    "__start__"
   ]
  },
  {
   "cell_type": "code",
   "execution_count": 21,
   "metadata": {},
   "outputs": [
    {
     "name": "stdout",
     "output_type": "stream",
     "text": [
      "Number of observations in training data:  13547\n",
      "Number of observations in cross validation data:  714\n",
      "Number of observations in test data:  751\n"
     ]
    }
   ],
   "source": [
    "# df_train, df_test = train_test_split(df, stratify = df['label'], test_size = 0.05)\n",
    "# df_train, df_cv = train_test_split(df_train, stratify = df_train['label'], test_size = 0.05)\n",
    "# print('Number of observations in training data: ', len(df_train))\n",
    "# print('Number of observations in cross validation data: ', len(df_cv))\n",
    "# print('Number of observations in test data: ', len(df_test))"
   ]
  },
  {
   "cell_type": "code",
   "execution_count": 22,
   "metadata": {},
   "outputs": [],
   "source": [
    "# df_train = df_train.reset_index(drop=True)\n",
    "# df_cv = df_cv.reset_index(drop=True)\n",
    "# df_test = df_test.reset_index(drop=True)"
   ]
  },
  {
   "cell_type": "code",
   "execution_count": 49,
   "metadata": {},
   "outputs": [
    {
     "data": {
      "text/plain": [
       "'neutral'"
      ]
     },
     "execution_count": 49,
     "metadata": {},
     "output_type": "execute_result"
    }
   ],
   "source": [
    "# x = df_train['emotion'].value_counts()\n",
    "# x.index[0]"
   ]
  },
  {
   "cell_type": "code",
   "execution_count": 47,
   "metadata": {},
   "outputs": [],
   "source": [
    "# function to plot graphs\n",
    "# https://seaborn.pydata.org/generated/seaborn.countplot.html\n",
    "\n",
    "def plot_bar_graph(df, title):\n",
    "    fig = plt.figure(figsize = (10, 6))\n",
    "    ax = fig.add_axes([0,0,1,1])\n",
    "    ax.set_title(title, fontsize = 15)\n",
    "    sns.countplot(x = \"emotion\", data = df)\n",
    "    for i in ax.patches:\n",
    "        ax.text(x = i.get_x() + 0.2, y = i.get_height()+1.5, s = str(i.get_height()), fontsize = 20, color = \"grey\")\n",
    "    plt.xlabel(\"\")\n",
    "    plt.ylabel(\"Count\", fontsize = 10)\n",
    "    plt.tick_params(labelsize = 10)\n",
    "    plt.xticks(rotation = 40)\n",
    "    plt.show()"
   ]
  },
  {
   "cell_type": "code",
   "execution_count": 92,
   "metadata": {},
   "outputs": [],
   "source": [
    "# function to convert all images to gray scale\n",
    "\n",
    "def convert_gray(df):\n",
    "    cnt = 0\n",
    "    for index, row in df.iterrows():\n",
    "        path = os.path.join(row['folders_path'], row['images'])\n",
    "        img = Image.open(path).convert('L')\n",
    "        img.save(path)\n",
    "        cnt += 1\n",
    "    print('Number of images converted to grayscale: ', cnt)"
   ]
  },
  {
   "cell_type": "code",
   "execution_count": 21,
   "metadata": {},
   "outputs": [
    {
     "name": "stdout",
     "output_type": "stream",
     "text": [
      "Number of images converted to grayscale:  7848\n"
     ]
    }
   ],
   "source": [
    "convert_gray(df)"
   ]
  },
  {
   "cell_type": "code",
   "execution_count": 56,
   "metadata": {},
   "outputs": [
    {
     "data": {
      "text/plain": [
       "575"
      ]
     },
     "execution_count": 56,
     "metadata": {},
     "output_type": "execute_result"
    }
   ],
   "source": [
    "# p = 'D:\\\\Aakash\\\\Documents\\\\temp\\\\emotion detection dataset\\\\final facial dataset\\\\an'\n",
    "# l = listdir(p)\n",
    "# lm = [os.path.join(p, i) for i in l]\n",
    "# len(lm)"
   ]
  },
  {
   "cell_type": "code",
   "execution_count": 58,
   "metadata": {},
   "outputs": [],
   "source": [
    "# # df_kaggle = pd.read_csv('D:\\\\Aakash\\\\Documents\\\\temp\\\\emotion detection dataset\\\\facial expression\\\\facial_expressions-master\\\\data\\\\legend.csv')\n",
    "\n",
    "# face_cascade = cv2.CascadeClassifier('haarcascade_frontalface_default.xml')\n",
    "# for i in lm:\n",
    "#     path = i\n",
    "#     img = cv2.imread(path)\n",
    "#     gray = cv2.cvtColor(img, cv2.COLOR_BGR2GRAY)\n",
    "#     faces = face_cascade.detectMultiScale(gray, 1.3, 5)\n",
    "#     for (x, y, w, h) in faces:\n",
    "#         face_clip = img[y:y+h, x:x+w]\n",
    "#         cv2.imwrite(path, cv2.resize(face_clip, (48, 48)))"
   ]
  },
  {
   "cell_type": "code",
   "execution_count": 57,
   "metadata": {},
   "outputs": [
    {
     "name": "stdout",
     "output_type": "stream",
     "text": [
      "Number of images converted to grayscale:  575\n"
     ]
    }
   ],
   "source": [
    "# cnt = 0\n",
    "# for i in lm:\n",
    "#     path = i\n",
    "# #         img = cv2.imread(path)\n",
    "# #         gray = cv2.cvtColor(img, cv2.COLOR_BGR2GRAY)\n",
    "# #         cv2.imwrite(path, gray)\n",
    "#     img = Image.open(path).convert('L')\n",
    "#     img.save(path)\n",
    "#     cnt += 1\n",
    "# print('Number of images converted to grayscale: ', cnt)"
   ]
  },
  {
   "cell_type": "code",
   "execution_count": 59,
   "metadata": {},
   "outputs": [],
   "source": [
    "# for i in lm:\n",
    "#     path = i\n",
    "#     img = Image.open(path)\n",
    "#     img = img.resize((48, 48), PIL.Image.ANTIALIAS)\n",
    "#     img.save(path)"
   ]
  },
  {
   "cell_type": "code",
   "execution_count": 32,
   "metadata": {},
   "outputs": [],
   "source": [
    "# p = 'D:\\\\Aakash\\\\Documents\\\\temp\\\\emotion detection dataset\\\\final facial dataset\\\\data\\\\su'\n",
    "# l = listdir(p)\n",
    "# lm = [os.path.join(p, i) for i in l]"
   ]
  },
  {
   "cell_type": "code",
   "execution_count": 28,
   "metadata": {},
   "outputs": [
    {
     "data": {
      "text/plain": [
       "606"
      ]
     },
     "execution_count": 28,
     "metadata": {},
     "output_type": "execute_result"
    }
   ],
   "source": []
  },
  {
   "cell_type": "code",
   "execution_count": 33,
   "metadata": {},
   "outputs": [],
   "source": [
    "# for i in range(len(lm)):\n",
    "#     namel = l[i].split('.')\n",
    "#     name = namel[0] + '_c.' + namel[-1]\n",
    "#     os.rename(lm[i], os.path.join(p, name))"
   ]
  },
  {
   "cell_type": "code",
   "execution_count": 94,
   "metadata": {},
   "outputs": [],
   "source": [
    "# function to detect faces from each images and save as 48*48 pixel\n",
    "\n",
    "df_kaggle = pd.read_csv('D:\\\\Aakash\\\\Documents\\\\temp\\\\emotion detection dataset\\\\facial expression\\\\facial_expressions-master\\\\data\\\\legend.csv')\n",
    "\n",
    "face_cascade = cv2.CascadeClassifier('haarcascade_frontalface_default.xml')\n",
    "def face_detect(df):\n",
    "    for index, row in df.iterrows():\n",
    "        if(len(df_kaggle[df_kaggle['image'] == row['images']]) == 0):\n",
    "            path = os.path.join(row['folders_path'], row['images'])\n",
    "            img = cv2.imread(path)\n",
    "            gray = cv2.cvtColor(img, cv2.COLOR_BGR2GRAY)\n",
    "            faces = face_cascade.detectMultiScale(gray, 1.3, 5)\n",
    "            for (x, y, w, h) in faces:\n",
    "                face_clip = img[y:y+h, x:x+w]\n",
    "                cv2.imwrite(path, cv2.resize(face_clip, (48, 48)))"
   ]
  },
  {
   "cell_type": "code",
   "execution_count": 95,
   "metadata": {},
   "outputs": [],
   "source": [
    "face_detect(df)"
   ]
  },
  {
   "cell_type": "code",
   "execution_count": 96,
   "metadata": {},
   "outputs": [],
   "source": [
    "# function to convert all images to 48*48 pixel size\n",
    "\n",
    "def face_resize(df):\n",
    "    for index, row in df.iterrows():\n",
    "        path = os.path.join(row['folders_path'], row['images'])\n",
    "        img = Image.open(path)\n",
    "        img = img.resize((48, 48), PIL.Image.ANTIALIAS)\n",
    "        img.save(path)"
   ]
  },
  {
   "cell_type": "code",
   "execution_count": 97,
   "metadata": {},
   "outputs": [],
   "source": [
    "face_resize(df)"
   ]
  },
  {
   "cell_type": "code",
   "execution_count": 34,
   "metadata": {},
   "outputs": [],
   "source": [
    "# function to make a dataframe of the pixel values of all images\n",
    "\n",
    "df_pixels = pd.DataFrame(columns = ['pixels'])\n",
    "\n",
    "for index, row in df.iterrows():\n",
    "    img = Image.open(os.path.join(row['folders_path'], row['images']))\n",
    "    img.load()\n",
    "    pxl = np.asarray(img, dtype=\"int32\")\n",
    "    if(pxl.shape != (48, 48)):\n",
    "        pxl = np.array(Image.open(os.path.join(row['folders_path'], row['images'])).convert('L'), dtype=\"int32\")\n",
    "    pxl = pxl.reshape(48*48)\n",
    "    pxl = ' '.join(map(str, pxl))\n",
    "    df_pixels.loc[index] = [pxl]"
   ]
  },
  {
   "cell_type": "code",
   "execution_count": 35,
   "metadata": {},
   "outputs": [
    {
     "data": {
      "text/html": [
       "<div>\n",
       "<style scoped>\n",
       "    .dataframe tbody tr th:only-of-type {\n",
       "        vertical-align: middle;\n",
       "    }\n",
       "\n",
       "    .dataframe tbody tr th {\n",
       "        vertical-align: top;\n",
       "    }\n",
       "\n",
       "    .dataframe thead th {\n",
       "        text-align: right;\n",
       "    }\n",
       "</style>\n",
       "<table border=\"1\" class=\"dataframe\">\n",
       "  <thead>\n",
       "    <tr style=\"text-align: right;\">\n",
       "      <th></th>\n",
       "      <th>pixels</th>\n",
       "    </tr>\n",
       "  </thead>\n",
       "  <tbody>\n",
       "    <tr>\n",
       "      <td>0</td>\n",
       "      <td>252 251 255 246 212 208 219 212 212 205 209 21...</td>\n",
       "    </tr>\n",
       "    <tr>\n",
       "      <td>1</td>\n",
       "      <td>5 0 2 2 10 3 20 110 163 204 235 234 226 229 23...</td>\n",
       "    </tr>\n",
       "    <tr>\n",
       "      <td>2</td>\n",
       "      <td>41 67 77 72 70 65 87 131 140 163 175 158 133 1...</td>\n",
       "    </tr>\n",
       "    <tr>\n",
       "      <td>3</td>\n",
       "      <td>134 128 136 162 183 190 195 202 199 198 194 18...</td>\n",
       "    </tr>\n",
       "    <tr>\n",
       "      <td>4</td>\n",
       "      <td>182 163 45 9 0 5 13 2 0 0 1 0 0 0 0 1 0 1 2 2 ...</td>\n",
       "    </tr>\n",
       "  </tbody>\n",
       "</table>\n",
       "</div>"
      ],
      "text/plain": [
       "                                              pixels\n",
       "0  252 251 255 246 212 208 219 212 212 205 209 21...\n",
       "1  5 0 2 2 10 3 20 110 163 204 235 234 226 229 23...\n",
       "2  41 67 77 72 70 65 87 131 140 163 175 158 133 1...\n",
       "3  134 128 136 162 183 190 195 202 199 198 194 18...\n",
       "4  182 163 45 9 0 5 13 2 0 0 1 0 0 0 0 1 0 1 2 2 ..."
      ]
     },
     "execution_count": 35,
     "metadata": {},
     "output_type": "execute_result"
    }
   ],
   "source": [
    "df_pixels.head()"
   ]
  },
  {
   "cell_type": "code",
   "execution_count": 36,
   "metadata": {},
   "outputs": [
    {
     "name": "stdout",
     "output_type": "stream",
     "text": [
      "Number of rows in fer_data: 7848\n"
     ]
    }
   ],
   "source": [
    "print('Number of rows in fer_data:', len(df_pixels))"
   ]
  },
  {
   "cell_type": "code",
   "execution_count": 37,
   "metadata": {},
   "outputs": [
    {
     "data": {
      "text/html": [
       "<div>\n",
       "<style scoped>\n",
       "    .dataframe tbody tr th:only-of-type {\n",
       "        vertical-align: middle;\n",
       "    }\n",
       "\n",
       "    .dataframe tbody tr th {\n",
       "        vertical-align: top;\n",
       "    }\n",
       "\n",
       "    .dataframe thead th {\n",
       "        text-align: right;\n",
       "    }\n",
       "</style>\n",
       "<table border=\"1\" class=\"dataframe\">\n",
       "  <thead>\n",
       "    <tr style=\"text-align: right;\">\n",
       "      <th></th>\n",
       "      <th>folders_path</th>\n",
       "      <th>images</th>\n",
       "      <th>emotion</th>\n",
       "      <th>pixels</th>\n",
       "    </tr>\n",
       "  </thead>\n",
       "  <tbody>\n",
       "    <tr>\n",
       "      <td>0</td>\n",
       "      <td>D:\\Aakash\\Documents\\temp\\emotion detection dat...</td>\n",
       "      <td>1016_0_c.jpg</td>\n",
       "      <td>0</td>\n",
       "      <td>252 251 255 246 212 208 219 212 212 205 209 21...</td>\n",
       "    </tr>\n",
       "    <tr>\n",
       "      <td>1</td>\n",
       "      <td>D:\\Aakash\\Documents\\temp\\emotion detection dat...</td>\n",
       "      <td>1017_0_c.jpg</td>\n",
       "      <td>0</td>\n",
       "      <td>5 0 2 2 10 3 20 110 163 204 235 234 226 229 23...</td>\n",
       "    </tr>\n",
       "    <tr>\n",
       "      <td>2</td>\n",
       "      <td>D:\\Aakash\\Documents\\temp\\emotion detection dat...</td>\n",
       "      <td>1019_0_c.jpg</td>\n",
       "      <td>0</td>\n",
       "      <td>41 67 77 72 70 65 87 131 140 163 175 158 133 1...</td>\n",
       "    </tr>\n",
       "    <tr>\n",
       "      <td>3</td>\n",
       "      <td>D:\\Aakash\\Documents\\temp\\emotion detection dat...</td>\n",
       "      <td>1025_0_c.jpg</td>\n",
       "      <td>0</td>\n",
       "      <td>134 128 136 162 183 190 195 202 199 198 194 18...</td>\n",
       "    </tr>\n",
       "    <tr>\n",
       "      <td>4</td>\n",
       "      <td>D:\\Aakash\\Documents\\temp\\emotion detection dat...</td>\n",
       "      <td>1040_0_c.jpg</td>\n",
       "      <td>0</td>\n",
       "      <td>182 163 45 9 0 5 13 2 0 0 1 0 0 0 0 1 0 1 2 2 ...</td>\n",
       "    </tr>\n",
       "  </tbody>\n",
       "</table>\n",
       "</div>"
      ],
      "text/plain": [
       "                                        folders_path        images  emotion  \\\n",
       "0  D:\\Aakash\\Documents\\temp\\emotion detection dat...  1016_0_c.jpg        0   \n",
       "1  D:\\Aakash\\Documents\\temp\\emotion detection dat...  1017_0_c.jpg        0   \n",
       "2  D:\\Aakash\\Documents\\temp\\emotion detection dat...  1019_0_c.jpg        0   \n",
       "3  D:\\Aakash\\Documents\\temp\\emotion detection dat...  1025_0_c.jpg        0   \n",
       "4  D:\\Aakash\\Documents\\temp\\emotion detection dat...  1040_0_c.jpg        0   \n",
       "\n",
       "                                              pixels  \n",
       "0  252 251 255 246 212 208 219 212 212 205 209 21...  \n",
       "1  5 0 2 2 10 3 20 110 163 204 235 234 226 229 23...  \n",
       "2  41 67 77 72 70 65 87 131 140 163 175 158 133 1...  \n",
       "3  134 128 136 162 183 190 195 202 199 198 194 18...  \n",
       "4  182 163 45 9 0 5 13 2 0 0 1 0 0 0 0 1 0 1 2 2 ...  "
      ]
     },
     "execution_count": 37,
     "metadata": {},
     "output_type": "execute_result"
    }
   ],
   "source": [
    "# concatenate the new dataframe of pixels with the path dataframe\n",
    "\n",
    "new_df = pd.concat([df, df_pixels], axis = 1)\n",
    "new_df.head()"
   ]
  },
  {
   "cell_type": "code",
   "execution_count": 38,
   "metadata": {},
   "outputs": [],
   "source": [
    "# deleting folders_path column and images column from new_df\n",
    "\n",
    "del new_df['folders_path']\n",
    "del new_df['images']"
   ]
  },
  {
   "cell_type": "code",
   "execution_count": 39,
   "metadata": {},
   "outputs": [
    {
     "data": {
      "text/html": [
       "<div>\n",
       "<style scoped>\n",
       "    .dataframe tbody tr th:only-of-type {\n",
       "        vertical-align: middle;\n",
       "    }\n",
       "\n",
       "    .dataframe tbody tr th {\n",
       "        vertical-align: top;\n",
       "    }\n",
       "\n",
       "    .dataframe thead th {\n",
       "        text-align: right;\n",
       "    }\n",
       "</style>\n",
       "<table border=\"1\" class=\"dataframe\">\n",
       "  <thead>\n",
       "    <tr style=\"text-align: right;\">\n",
       "      <th></th>\n",
       "      <th>emotion</th>\n",
       "      <th>pixels</th>\n",
       "    </tr>\n",
       "  </thead>\n",
       "  <tbody>\n",
       "    <tr>\n",
       "      <td>0</td>\n",
       "      <td>0</td>\n",
       "      <td>252 251 255 246 212 208 219 212 212 205 209 21...</td>\n",
       "    </tr>\n",
       "    <tr>\n",
       "      <td>1</td>\n",
       "      <td>0</td>\n",
       "      <td>5 0 2 2 10 3 20 110 163 204 235 234 226 229 23...</td>\n",
       "    </tr>\n",
       "    <tr>\n",
       "      <td>2</td>\n",
       "      <td>0</td>\n",
       "      <td>41 67 77 72 70 65 87 131 140 163 175 158 133 1...</td>\n",
       "    </tr>\n",
       "    <tr>\n",
       "      <td>3</td>\n",
       "      <td>0</td>\n",
       "      <td>134 128 136 162 183 190 195 202 199 198 194 18...</td>\n",
       "    </tr>\n",
       "    <tr>\n",
       "      <td>4</td>\n",
       "      <td>0</td>\n",
       "      <td>182 163 45 9 0 5 13 2 0 0 1 0 0 0 0 1 0 1 2 2 ...</td>\n",
       "    </tr>\n",
       "  </tbody>\n",
       "</table>\n",
       "</div>"
      ],
      "text/plain": [
       "   emotion                                             pixels\n",
       "0        0  252 251 255 246 212 208 219 212 212 205 209 21...\n",
       "1        0  5 0 2 2 10 3 20 110 163 204 235 234 226 229 23...\n",
       "2        0  41 67 77 72 70 65 87 131 140 163 175 158 133 1...\n",
       "3        0  134 128 136 162 183 190 195 202 199 198 194 18...\n",
       "4        0  182 163 45 9 0 5 13 2 0 0 1 0 0 0 0 1 0 1 2 2 ..."
      ]
     },
     "execution_count": 39,
     "metadata": {},
     "output_type": "execute_result"
    }
   ],
   "source": [
    "new_df.head()"
   ]
  },
  {
   "cell_type": "code",
   "execution_count": 22,
   "metadata": {},
   "outputs": [
    {
     "data": {
      "text/html": [
       "<div>\n",
       "<style scoped>\n",
       "    .dataframe tbody tr th:only-of-type {\n",
       "        vertical-align: middle;\n",
       "    }\n",
       "\n",
       "    .dataframe tbody tr th {\n",
       "        vertical-align: top;\n",
       "    }\n",
       "\n",
       "    .dataframe thead th {\n",
       "        text-align: right;\n",
       "    }\n",
       "</style>\n",
       "<table border=\"1\" class=\"dataframe\">\n",
       "  <thead>\n",
       "    <tr style=\"text-align: right;\">\n",
       "      <th></th>\n",
       "      <th>emotion</th>\n",
       "      <th>pixels</th>\n",
       "      <th>Usage</th>\n",
       "    </tr>\n",
       "  </thead>\n",
       "  <tbody>\n",
       "    <tr>\n",
       "      <td>0</td>\n",
       "      <td>0</td>\n",
       "      <td>70 80 82 72 58 58 60 63 54 58 60 48 89 115 121...</td>\n",
       "      <td>Training</td>\n",
       "    </tr>\n",
       "    <tr>\n",
       "      <td>1</td>\n",
       "      <td>0</td>\n",
       "      <td>151 150 147 155 148 133 111 140 170 174 182 15...</td>\n",
       "      <td>Training</td>\n",
       "    </tr>\n",
       "    <tr>\n",
       "      <td>2</td>\n",
       "      <td>2</td>\n",
       "      <td>231 212 156 164 174 138 161 173 182 200 106 38...</td>\n",
       "      <td>Training</td>\n",
       "    </tr>\n",
       "    <tr>\n",
       "      <td>3</td>\n",
       "      <td>4</td>\n",
       "      <td>24 32 36 30 32 23 19 20 30 41 21 22 32 34 21 1...</td>\n",
       "      <td>Training</td>\n",
       "    </tr>\n",
       "    <tr>\n",
       "      <td>4</td>\n",
       "      <td>6</td>\n",
       "      <td>4 0 0 0 0 0 0 0 0 0 0 0 3 15 23 28 48 50 58 84...</td>\n",
       "      <td>Training</td>\n",
       "    </tr>\n",
       "  </tbody>\n",
       "</table>\n",
       "</div>"
      ],
      "text/plain": [
       "   emotion                                             pixels     Usage\n",
       "0        0  70 80 82 72 58 58 60 63 54 58 60 48 89 115 121...  Training\n",
       "1        0  151 150 147 155 148 133 111 140 170 174 182 15...  Training\n",
       "2        2  231 212 156 164 174 138 161 173 182 200 106 38...  Training\n",
       "3        4  24 32 36 30 32 23 19 20 30 41 21 22 32 34 21 1...  Training\n",
       "4        6  4 0 0 0 0 0 0 0 0 0 0 0 3 15 23 28 48 50 58 84...  Training"
      ]
     },
     "execution_count": 22,
     "metadata": {},
     "output_type": "execute_result"
    }
   ],
   "source": [
    "# reading fer_2013 csv file\n",
    "\n",
    "file_path = 'D:\\\\Aakash\\\\Documents\\\\temp\\\\fer2013\\\\fer2013\\\\fer2013.csv'\n",
    "fer_data = pd.read_csv(file_path)\n",
    "fer_data.head()"
   ]
  },
  {
   "cell_type": "code",
   "execution_count": 23,
   "metadata": {},
   "outputs": [
    {
     "data": {
      "text/plain": [
       "3    8989\n",
       "6    6198\n",
       "4    6077\n",
       "2    5121\n",
       "0    4953\n",
       "5    4002\n",
       "1     547\n",
       "Name: emotion, dtype: int64"
      ]
     },
     "execution_count": 23,
     "metadata": {},
     "output_type": "execute_result"
    }
   ],
   "source": [
    "# value count of each emotion in fer_2013 dataset\n",
    "\n",
    "fer_data['emotion'].value_counts()"
   ]
  },
  {
   "cell_type": "code",
   "execution_count": 24,
   "metadata": {},
   "outputs": [],
   "source": [
    "# return sub dataframe consisting n rows of a single emotion\n",
    "\n",
    "def return_single_emotion_df(em, num):\n",
    "    i = 0\n",
    "    df_temp = pd.DataFrame(columns = fer_data.columns)\n",
    "    for index, row in fer_data.iterrows():\n",
    "        if(row['emotion'] == em):\n",
    "            df_temp.loc[i] = row\n",
    "            i += 1\n",
    "    \n",
    "    df_temp2 = df_temp.sample(n = num)\n",
    "    return df_temp2"
   ]
  },
  {
   "cell_type": "code",
   "execution_count": 25,
   "metadata": {},
   "outputs": [
    {
     "data": {
      "text/plain": [
       "3    5000\n",
       "Name: emotion, dtype: int64"
      ]
     },
     "execution_count": 25,
     "metadata": {},
     "output_type": "execute_result"
    }
   ],
   "source": [
    "# extracting random 5000 samples of emotion happy\n",
    "fer_happy = return_single_emotion_df(3, 5000)\n",
    "fer_happy['emotion'].value_counts()"
   ]
  },
  {
   "cell_type": "code",
   "execution_count": 26,
   "metadata": {},
   "outputs": [
    {
     "data": {
      "text/plain": [
       "4    5556\n",
       "Name: emotion, dtype: int64"
      ]
     },
     "execution_count": 26,
     "metadata": {},
     "output_type": "execute_result"
    }
   ],
   "source": [
    "# extracting random 5000 samples of emotion sad\n",
    "fer_sad = return_single_emotion_df(4, 5556)\n",
    "fer_sad['emotion'].value_counts()"
   ]
  },
  {
   "cell_type": "code",
   "execution_count": 27,
   "metadata": {},
   "outputs": [
    {
     "data": {
      "text/plain": [
       "6    5000\n",
       "Name: emotion, dtype: int64"
      ]
     },
     "execution_count": 27,
     "metadata": {},
     "output_type": "execute_result"
    }
   ],
   "source": [
    "# extracting random 5000 samples of emotion neutral\n",
    "fer_neutral = return_single_emotion_df(6, 5000)\n",
    "fer_neutral['emotion'].value_counts()"
   ]
  },
  {
   "cell_type": "code",
   "execution_count": 28,
   "metadata": {},
   "outputs": [
    {
     "data": {
      "text/plain": [
       "26898"
      ]
     },
     "execution_count": 28,
     "metadata": {},
     "output_type": "execute_result"
    }
   ],
   "source": [
    "# deleting happy emotion rows from fer_csv\n",
    "fer_data = fer_data.drop(fer_data[fer_data.emotion == 3].index)\n",
    "len(fer_data)"
   ]
  },
  {
   "cell_type": "code",
   "execution_count": 29,
   "metadata": {},
   "outputs": [
    {
     "data": {
      "text/plain": [
       "20821"
      ]
     },
     "execution_count": 29,
     "metadata": {},
     "output_type": "execute_result"
    }
   ],
   "source": [
    "# deleting sad emotion rows from fer_csv\n",
    "fer_data = fer_data.drop(fer_data[fer_data.emotion == 4].index)\n",
    "len(fer_data)"
   ]
  },
  {
   "cell_type": "code",
   "execution_count": 30,
   "metadata": {},
   "outputs": [
    {
     "data": {
      "text/plain": [
       "14623"
      ]
     },
     "execution_count": 30,
     "metadata": {},
     "output_type": "execute_result"
    }
   ],
   "source": [
    "# deleting neutral emotion rows from fer_csv\n",
    "fer_data = fer_data.drop(fer_data[fer_data.emotion == 6].index)\n",
    "len(fer_data)"
   ]
  },
  {
   "cell_type": "code",
   "execution_count": 31,
   "metadata": {},
   "outputs": [
    {
     "data": {
      "text/html": [
       "<div>\n",
       "<style scoped>\n",
       "    .dataframe tbody tr th:only-of-type {\n",
       "        vertical-align: middle;\n",
       "    }\n",
       "\n",
       "    .dataframe tbody tr th {\n",
       "        vertical-align: top;\n",
       "    }\n",
       "\n",
       "    .dataframe thead th {\n",
       "        text-align: right;\n",
       "    }\n",
       "</style>\n",
       "<table border=\"1\" class=\"dataframe\">\n",
       "  <thead>\n",
       "    <tr style=\"text-align: right;\">\n",
       "      <th></th>\n",
       "      <th>emotion</th>\n",
       "      <th>pixels</th>\n",
       "      <th>Usage</th>\n",
       "    </tr>\n",
       "  </thead>\n",
       "  <tbody>\n",
       "    <tr>\n",
       "      <td>0</td>\n",
       "      <td>0</td>\n",
       "      <td>70 80 82 72 58 58 60 63 54 58 60 48 89 115 121...</td>\n",
       "      <td>Training</td>\n",
       "    </tr>\n",
       "    <tr>\n",
       "      <td>1</td>\n",
       "      <td>0</td>\n",
       "      <td>151 150 147 155 148 133 111 140 170 174 182 15...</td>\n",
       "      <td>Training</td>\n",
       "    </tr>\n",
       "    <tr>\n",
       "      <td>2</td>\n",
       "      <td>2</td>\n",
       "      <td>231 212 156 164 174 138 161 173 182 200 106 38...</td>\n",
       "      <td>Training</td>\n",
       "    </tr>\n",
       "    <tr>\n",
       "      <td>3</td>\n",
       "      <td>2</td>\n",
       "      <td>55 55 55 55 55 54 60 68 54 85 151 163 170 179 ...</td>\n",
       "      <td>Training</td>\n",
       "    </tr>\n",
       "    <tr>\n",
       "      <td>4</td>\n",
       "      <td>2</td>\n",
       "      <td>255 254 255 254 254 179 122 107 95 124 149 150...</td>\n",
       "      <td>Training</td>\n",
       "    </tr>\n",
       "  </tbody>\n",
       "</table>\n",
       "</div>"
      ],
      "text/plain": [
       "  emotion                                             pixels     Usage\n",
       "0       0  70 80 82 72 58 58 60 63 54 58 60 48 89 115 121...  Training\n",
       "1       0  151 150 147 155 148 133 111 140 170 174 182 15...  Training\n",
       "2       2  231 212 156 164 174 138 161 173 182 200 106 38...  Training\n",
       "3       2  55 55 55 55 55 54 60 68 54 85 151 163 170 179 ...  Training\n",
       "4       2  255 254 255 254 254 179 122 107 95 124 149 150...  Training"
      ]
     },
     "execution_count": 31,
     "metadata": {},
     "output_type": "execute_result"
    }
   ],
   "source": [
    "# making fer_data consisting of all emotions\n",
    "fer_data = pd.concat([fer_data, fer_sad, fer_neutral, fer_happy], ignore_index = True)\n",
    "fer_data.head()"
   ]
  },
  {
   "cell_type": "code",
   "execution_count": 32,
   "metadata": {},
   "outputs": [
    {
     "name": "stdout",
     "output_type": "stream",
     "text": [
      "Number of rows in fer_data: 30179\n"
     ]
    }
   ],
   "source": [
    "print('Number of rows in fer_data:', len(fer_data))"
   ]
  },
  {
   "cell_type": "code",
   "execution_count": 33,
   "metadata": {},
   "outputs": [],
   "source": [
    "# deleting usage column from fer_data\n",
    "fer_data = fer_data.reset_index(drop=True)\n",
    "del fer_data['Usage']"
   ]
  },
  {
   "cell_type": "code",
   "execution_count": 40,
   "metadata": {},
   "outputs": [
    {
     "data": {
      "text/html": [
       "<div>\n",
       "<style scoped>\n",
       "    .dataframe tbody tr th:only-of-type {\n",
       "        vertical-align: middle;\n",
       "    }\n",
       "\n",
       "    .dataframe tbody tr th {\n",
       "        vertical-align: top;\n",
       "    }\n",
       "\n",
       "    .dataframe thead th {\n",
       "        text-align: right;\n",
       "    }\n",
       "</style>\n",
       "<table border=\"1\" class=\"dataframe\">\n",
       "  <thead>\n",
       "    <tr style=\"text-align: right;\">\n",
       "      <th></th>\n",
       "      <th>emotion</th>\n",
       "      <th>pixels</th>\n",
       "    </tr>\n",
       "  </thead>\n",
       "  <tbody>\n",
       "    <tr>\n",
       "      <td>0</td>\n",
       "      <td>0</td>\n",
       "      <td>252 251 255 246 212 208 219 212 212 205 209 21...</td>\n",
       "    </tr>\n",
       "    <tr>\n",
       "      <td>1</td>\n",
       "      <td>0</td>\n",
       "      <td>5 0 2 2 10 3 20 110 163 204 235 234 226 229 23...</td>\n",
       "    </tr>\n",
       "    <tr>\n",
       "      <td>2</td>\n",
       "      <td>0</td>\n",
       "      <td>41 67 77 72 70 65 87 131 140 163 175 158 133 1...</td>\n",
       "    </tr>\n",
       "    <tr>\n",
       "      <td>3</td>\n",
       "      <td>0</td>\n",
       "      <td>134 128 136 162 183 190 195 202 199 198 194 18...</td>\n",
       "    </tr>\n",
       "    <tr>\n",
       "      <td>4</td>\n",
       "      <td>0</td>\n",
       "      <td>182 163 45 9 0 5 13 2 0 0 1 0 0 0 0 1 0 1 2 2 ...</td>\n",
       "    </tr>\n",
       "  </tbody>\n",
       "</table>\n",
       "</div>"
      ],
      "text/plain": [
       "  emotion                                             pixels\n",
       "0       0  252 251 255 246 212 208 219 212 212 205 209 21...\n",
       "1       0  5 0 2 2 10 3 20 110 163 204 235 234 226 229 23...\n",
       "2       0  41 67 77 72 70 65 87 131 140 163 175 158 133 1...\n",
       "3       0  134 128 136 162 183 190 195 202 199 198 194 18...\n",
       "4       0  182 163 45 9 0 5 13 2 0 0 1 0 0 0 0 1 0 1 2 2 ..."
      ]
     },
     "execution_count": 40,
     "metadata": {},
     "output_type": "execute_result"
    }
   ],
   "source": [
    "# concatenating all dataframe to make the final dataset\n",
    "final_df = pd.concat([new_df, fer_data], ignore_index = True)\n",
    "final_df.head()"
   ]
  },
  {
   "cell_type": "code",
   "execution_count": null,
   "metadata": {},
   "outputs": [],
   "source": []
  },
  {
   "cell_type": "code",
   "execution_count": 110,
   "metadata": {},
   "outputs": [],
   "source": [
    "i = 0\n",
    "df_temp = pd.DataFrame(columns = fer_data.columns)\n",
    "for index, row in fer_data.iterrows():\n",
    "    if(row['emotion'] == 3):\n",
    "        df_temp.loc[i] = row\n",
    "        i += 1"
   ]
  },
  {
   "cell_type": "code",
   "execution_count": 111,
   "metadata": {},
   "outputs": [],
   "source": [
    "cnt = 0\n",
    "for indx, row in df_temp.iterrows():\n",
    "    if(row['emotion'] == 3):\n",
    "        if(cnt % 3 == 0 and cnt < 7850):\n",
    "            df_temp = df_temp.drop(fer_data.index[indx])\n",
    "        cnt += 1"
   ]
  },
  {
   "cell_type": "code",
   "execution_count": 112,
   "metadata": {},
   "outputs": [
    {
     "data": {
      "text/plain": [
       "6372"
      ]
     },
     "execution_count": 112,
     "metadata": {},
     "output_type": "execute_result"
    }
   ],
   "source": [
    "len(df_temp)"
   ]
  },
  {
   "cell_type": "code",
   "execution_count": 113,
   "metadata": {},
   "outputs": [
    {
     "data": {
      "text/plain": [
       "26898"
      ]
     },
     "execution_count": 113,
     "metadata": {},
     "output_type": "execute_result"
    }
   ],
   "source": [
    "fer_data = fer_data.drop(fer_data[fer_data.emotion == 3].index)\n",
    "len(fer_data)"
   ]
  },
  {
   "cell_type": "code",
   "execution_count": 114,
   "metadata": {},
   "outputs": [],
   "source": [
    "fer_data = pd.concat([df_temp, fer_data], ignore_index = True)"
   ]
  },
  {
   "cell_type": "code",
   "execution_count": 115,
   "metadata": {},
   "outputs": [
    {
     "data": {
      "text/plain": [
       "3    6372\n",
       "6    6198\n",
       "4    6077\n",
       "2    5121\n",
       "0    4953\n",
       "5    4002\n",
       "1     547\n",
       "Name: emotion, dtype: int64"
      ]
     },
     "execution_count": 115,
     "metadata": {},
     "output_type": "execute_result"
    }
   ],
   "source": [
    "fer_data['emotion'].value_counts()"
   ]
  },
  {
   "cell_type": "code",
   "execution_count": 116,
   "metadata": {},
   "outputs": [],
   "source": [
    "fer_data = fer_data.reset_index(drop=True)"
   ]
  },
  {
   "cell_type": "code",
   "execution_count": 117,
   "metadata": {},
   "outputs": [],
   "source": [
    "del fer_data['Usage']"
   ]
  },
  {
   "cell_type": "code",
   "execution_count": 118,
   "metadata": {},
   "outputs": [
    {
     "data": {
      "text/html": [
       "<div>\n",
       "<style scoped>\n",
       "    .dataframe tbody tr th:only-of-type {\n",
       "        vertical-align: middle;\n",
       "    }\n",
       "\n",
       "    .dataframe tbody tr th {\n",
       "        vertical-align: top;\n",
       "    }\n",
       "\n",
       "    .dataframe thead th {\n",
       "        text-align: right;\n",
       "    }\n",
       "</style>\n",
       "<table border=\"1\" class=\"dataframe\">\n",
       "  <thead>\n",
       "    <tr style=\"text-align: right;\">\n",
       "      <th></th>\n",
       "      <th>emotion</th>\n",
       "      <th>pixels</th>\n",
       "    </tr>\n",
       "  </thead>\n",
       "  <tbody>\n",
       "    <tr>\n",
       "      <td>0</td>\n",
       "      <td>0</td>\n",
       "      <td>252 251 255 246 212 208 219 212 212 205 209 21...</td>\n",
       "    </tr>\n",
       "    <tr>\n",
       "      <td>1</td>\n",
       "      <td>0</td>\n",
       "      <td>5 0 2 2 10 3 20 110 163 204 235 234 226 229 23...</td>\n",
       "    </tr>\n",
       "    <tr>\n",
       "      <td>2</td>\n",
       "      <td>0</td>\n",
       "      <td>41 67 77 72 70 65 87 131 140 163 175 158 133 1...</td>\n",
       "    </tr>\n",
       "    <tr>\n",
       "      <td>3</td>\n",
       "      <td>0</td>\n",
       "      <td>134 128 136 162 183 190 195 202 199 198 194 18...</td>\n",
       "    </tr>\n",
       "    <tr>\n",
       "      <td>4</td>\n",
       "      <td>0</td>\n",
       "      <td>182 163 45 9 0 5 13 2 0 0 1 0 0 0 0 1 0 1 2 2 ...</td>\n",
       "    </tr>\n",
       "  </tbody>\n",
       "</table>\n",
       "</div>"
      ],
      "text/plain": [
       "  emotion                                             pixels\n",
       "0       0  252 251 255 246 212 208 219 212 212 205 209 21...\n",
       "1       0  5 0 2 2 10 3 20 110 163 204 235 234 226 229 23...\n",
       "2       0  41 67 77 72 70 65 87 131 140 163 175 158 133 1...\n",
       "3       0  134 128 136 162 183 190 195 202 199 198 194 18...\n",
       "4       0  182 163 45 9 0 5 13 2 0 0 1 0 0 0 0 1 0 1 2 2 ..."
      ]
     },
     "execution_count": 118,
     "metadata": {},
     "output_type": "execute_result"
    }
   ],
   "source": [
    "final_df = pd.concat([new_df, fer_data], ignore_index = True)\n",
    "final_df.head()"
   ]
  },
  {
   "cell_type": "code",
   "execution_count": 119,
   "metadata": {},
   "outputs": [
    {
     "data": {
      "text/plain": [
       "3    6587\n",
       "6    6532\n",
       "4    6521\n",
       "0    6300\n",
       "2    6135\n",
       "5    5939\n",
       "1    1377\n",
       "Name: emotion, dtype: int64"
      ]
     },
     "execution_count": 119,
     "metadata": {},
     "output_type": "execute_result"
    }
   ],
   "source": [
    "final_df['emotion'].value_counts()"
   ]
  },
  {
   "cell_type": "code",
   "execution_count": 120,
   "metadata": {},
   "outputs": [
    {
     "data": {
      "text/html": [
       "<div>\n",
       "<style scoped>\n",
       "    .dataframe tbody tr th:only-of-type {\n",
       "        vertical-align: middle;\n",
       "    }\n",
       "\n",
       "    .dataframe tbody tr th {\n",
       "        vertical-align: top;\n",
       "    }\n",
       "\n",
       "    .dataframe thead th {\n",
       "        text-align: right;\n",
       "    }\n",
       "</style>\n",
       "<table border=\"1\" class=\"dataframe\">\n",
       "  <thead>\n",
       "    <tr style=\"text-align: right;\">\n",
       "      <th></th>\n",
       "      <th>emotion</th>\n",
       "      <th>pixels</th>\n",
       "    </tr>\n",
       "  </thead>\n",
       "  <tbody>\n",
       "    <tr>\n",
       "      <td>0</td>\n",
       "      <td>0</td>\n",
       "      <td>12 12 13 14 16 17 18 18 27 15 18 18 13 42 84 9...</td>\n",
       "    </tr>\n",
       "    <tr>\n",
       "      <td>1</td>\n",
       "      <td>4</td>\n",
       "      <td>32 33 33 33 35 36 36 36 36 37 39 38 38 36 35 3...</td>\n",
       "    </tr>\n",
       "    <tr>\n",
       "      <td>2</td>\n",
       "      <td>3</td>\n",
       "      <td>191 200 126 20 32 25 29 43 47 64 78 90 106 123...</td>\n",
       "    </tr>\n",
       "    <tr>\n",
       "      <td>3</td>\n",
       "      <td>2</td>\n",
       "      <td>15 16 17 16 17 17 18 18 16 28 51 60 73 79 86 9...</td>\n",
       "    </tr>\n",
       "    <tr>\n",
       "      <td>4</td>\n",
       "      <td>3</td>\n",
       "      <td>52 44 37 25 32 39 29 43 63 77 95 91 83 105 114...</td>\n",
       "    </tr>\n",
       "  </tbody>\n",
       "</table>\n",
       "</div>"
      ],
      "text/plain": [
       "  emotion                                             pixels\n",
       "0       0  12 12 13 14 16 17 18 18 27 15 18 18 13 42 84 9...\n",
       "1       4  32 33 33 33 35 36 36 36 36 37 39 38 38 36 35 3...\n",
       "2       3  191 200 126 20 32 25 29 43 47 64 78 90 106 123...\n",
       "3       2  15 16 17 16 17 17 18 18 16 28 51 60 73 79 86 9...\n",
       "4       3  52 44 37 25 32 39 29 43 63 77 95 91 83 105 114..."
      ]
     },
     "execution_count": 120,
     "metadata": {},
     "output_type": "execute_result"
    }
   ],
   "source": [
    "x = final_df.sample(frac=1).reset_index(drop=True)\n",
    "x.head()"
   ]
  },
  {
   "cell_type": "code",
   "execution_count": 41,
   "metadata": {},
   "outputs": [],
   "source": [
    "#shuffle the dataframe\n",
    "final_df = final_df.sample(frac=1).reset_index(drop=True)"
   ]
  },
  {
   "cell_type": "code",
   "execution_count": 42,
   "metadata": {},
   "outputs": [],
   "source": [
    "final_df.to_csv('face_data_up_final.csv', encoding='utf-8', index=False)"
   ]
  },
  {
   "cell_type": "code",
   "execution_count": 72,
   "metadata": {},
   "outputs": [
    {
     "data": {
      "text/plain": [
       "37933"
      ]
     },
     "execution_count": 72,
     "metadata": {},
     "output_type": "execute_result"
    }
   ],
   "source": []
  },
  {
   "cell_type": "code",
   "execution_count": null,
   "metadata": {},
   "outputs": [],
   "source": []
  },
  {
   "cell_type": "code",
   "execution_count": null,
   "metadata": {},
   "outputs": [],
   "source": []
  },
  {
   "cell_type": "code",
   "execution_count": null,
   "metadata": {},
   "outputs": [],
   "source": []
  },
  {
   "cell_type": "code",
   "execution_count": 2,
   "metadata": {},
   "outputs": [],
   "source": [
    "face_cascade = cv2.CascadeClassifier('haarcascade_frontalface_default.xml')\n",
    "path = 'C:\\\\Users\\\\AAKASH\\\\Desktop\\\\minor_project\\\\s014-01_img.tif'\n",
    "img = cv2.imread(path)\n",
    "gray = cv2.cvtColor(img, cv2.COLOR_BGR2GRAY)\n",
    "faces = face_cascade.detectMultiScale(gray, 1.3, 5)\n",
    "for (x, y, w, h) in faces:\n",
    "    face_clip = img[y:y+h, x:x+w]\n",
    "    cv2.imwrite(path, cv2.resize(face_clip, (48, 48)))"
   ]
  },
  {
   "cell_type": "code",
   "execution_count": 3,
   "metadata": {},
   "outputs": [],
   "source": [
    "# path = \"aia_anger_1.png\"\n",
    "img = Image.open(path)\n",
    "img.thumbnail((48, 48))  \n",
    "img.save(path, \"JPEG\")\n",
    "img = img.resize((48, 48), PIL.Image.ANTIALIAS)\n",
    "img.save(path)"
   ]
  },
  {
   "cell_type": "code",
   "execution_count": 129,
   "metadata": {},
   "outputs": [],
   "source": [
    "face_detect(df_train)"
   ]
  },
  {
   "cell_type": "code",
   "execution_count": 127,
   "metadata": {},
   "outputs": [],
   "source": [
    "face_detect(df_cv)"
   ]
  },
  {
   "cell_type": "code",
   "execution_count": 128,
   "metadata": {},
   "outputs": [],
   "source": [
    "face_detect(df_test)"
   ]
  },
  {
   "cell_type": "code",
   "execution_count": 4,
   "metadata": {},
   "outputs": [
    {
     "data": {
      "text/plain": [
       "True"
      ]
     },
     "execution_count": 4,
     "metadata": {},
     "output_type": "execute_result"
    }
   ],
   "source": [
    "# path = \"C:\\\\Users\\\\AAKASH\\\\Desktop\\\\minor_project\\\\11_0.jpg\"\n",
    "img = cv2.imread(path)\n",
    "gray = cv2.cvtColor(img, cv2.COLOR_BGR2GRAY)\n",
    "cv2.imwrite(path, gray)"
   ]
  },
  {
   "cell_type": "code",
   "execution_count": 242,
   "metadata": {},
   "outputs": [
    {
     "data": {
      "text/plain": [
       "(48, 48, 3)"
      ]
     },
     "execution_count": 242,
     "metadata": {},
     "output_type": "execute_result"
    }
   ],
   "source": [
    "# img = Image.open(\"D:\\\\Aakash\\\\Documents\\\\temp\\\\emotion detection dataset\\\\face dataset\\\\anger\\\\10149_0.jpg\")\n",
    "# img.load()\n",
    "# data = np.asarray( img, dtype=\"int32\" )\n",
    "# path = os.path.join(row['folders_path'], row['images'])\n",
    "img = cv2.imread(\"aia_anger_1.png\")\n",
    "# gray = cv2.cvtColor(img, cv2.COLOR_BGR2GRAY)\n",
    "# cv2.imwrite(\"aia_anger_1.jpg\", gray)\n",
    "# # data = data.reshape(48*48)\n",
    "# img = cv2.imread(\"aia_anger_1.jpg\")\n",
    "img.shape"
   ]
  },
  {
   "cell_type": "code",
   "execution_count": 153,
   "metadata": {},
   "outputs": [
    {
     "data": {
      "text/plain": [
       "(48, 48)"
      ]
     },
     "execution_count": 153,
     "metadata": {},
     "output_type": "execute_result"
    }
   ],
   "source": [
    "img = np.array(Image.open(\"aia_anger_1.png\").convert('L'), dtype=\"uint32\")\n",
    "img.shape"
   ]
  },
  {
   "cell_type": "code",
   "execution_count": 9,
   "metadata": {},
   "outputs": [
    {
     "data": {
      "text/plain": [
       "48"
      ]
     },
     "execution_count": 9,
     "metadata": {},
     "output_type": "execute_result"
    }
   ],
   "source": [
    "img = Image.open(\"C:\\\\Users\\\\AAKASH\\\\Desktop\\\\minor_project\\\\aia_anger_1.png\")\n",
    "img.size[0]"
   ]
  },
  {
   "cell_type": "code",
   "execution_count": 144,
   "metadata": {},
   "outputs": [
    {
     "data": {
      "text/plain": [
       "array([[43, 48, 58, ..., 19,  5,  9],\n",
       "       [45, 55, 65, ..., 20,  9,  9],\n",
       "       [42, 52, 67, ..., 18, 10,  6],\n",
       "       ...,\n",
       "       [63, 72, 77, ...,  2,  2,  0],\n",
       "       [61, 64, 75, ...,  0,  4,  3],\n",
       "       [57, 53, 72, ...,  0,  0,  9]], dtype=uint8)"
      ]
     },
     "execution_count": 144,
     "metadata": {},
     "output_type": "execute_result"
    }
   ],
   "source": [
    "from skimage import color\n",
    "from skimage import io\n",
    "# \n",
    "img = color.rgb2gray(io.imread('aia_anger_1.jpg'))\n",
    "img"
   ]
  },
  {
   "cell_type": "code",
   "execution_count": 150,
   "metadata": {},
   "outputs": [
    {
     "data": {
      "text/plain": [
       "<matplotlib.image.AxesImage at 0x2384c2524a8>"
      ]
     },
     "execution_count": 150,
     "metadata": {},
     "output_type": "execute_result"
    },
    {
     "data": {
      "image/png": "[encoded data removed]",
      "text/plain": [
       "<Figure size 432x288 with 1 Axes>"
      ]
     },
     "metadata": {},
     "output_type": "display_data"
    }
   ],
   "source": [
    "# image = np.array(img, dtype=np.uint8)[...,::-1]\n",
    "# image_transp = np.transpose(image, (1, 0, 2))\n",
    "plt.imshow(img, interpolation='none')"
   ]
  },
  {
   "cell_type": "code",
   "execution_count": 137,
   "metadata": {},
   "outputs": [],
   "source": [
    "im = Image.open(\"aia_anger_1.png\")\n",
    "im = im.convert('RGB')\n",
    "im.save(\"aia_anger_1.jpg\")"
   ]
  },
  {
   "cell_type": "code",
   "execution_count": null,
   "metadata": {},
   "outputs": [],
   "source": [
    "ws = np.array([ ])"
   ]
  }
 ],
 "metadata": {
  "kernelspec": {
   "display_name": "Python 3",
   "language": "python",
   "name": "python3"
  },
  "language_info": {
   "codemirror_mode": {
    "name": "ipython",
    "version": 3
   },
   "file_extension": ".py",
   "mimetype": "text/x-python",
   "name": "python",
   "nbconvert_exporter": "python",
   "pygments_lexer": "ipython3",
   "version": "3.7.4"
  }
 },
 "nbformat": 4,
 "nbformat_minor": 2
}
