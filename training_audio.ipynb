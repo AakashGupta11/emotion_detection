{
 "cells": [
  {
   "cell_type": "code",
   "execution_count": 1,
   "metadata": {
    "colab": {
     "base_uri": "https://localhost:8080/",
     "height": 34
    },
    "colab_type": "code",
    "id": "0Vl-YgAVzJNN",
    "outputId": "8b418caa-cdc2-4814-c01e-f2343182de49"
   },
   "outputs": [
    {
     "name": "stderr",
     "output_type": "stream",
     "text": [
      "Using TensorFlow backend.\n"
     ]
    }
   ],
   "source": [
    "import pandas as pd\n",
    "from PIL import Image\n",
    "from sklearn.model_selection import train_test_split\n",
    "import seaborn as sns\n",
    "import librosa\n",
    "import cv2\n",
    "import matplotlib.pyplot as plt\n",
    "import numpy as np\n",
    "\n",
    "import keras\n",
    "from keras.preprocessing import sequence\n",
    "from keras.models import Sequential\n",
    "from keras.layers import Dense, Embedding\n",
    "from keras.layers import LSTM\n",
    "from keras.preprocessing.text import Tokenizer\n",
    "from keras.preprocessing.sequence import pad_sequences\n",
    "from keras.utils import to_categorical\n",
    "from keras.layers import Input, Flatten, Dropout, Activation\n",
    "from keras.layers import Conv1D, MaxPooling1D, AveragePooling1D\n",
    "from keras.models import Model\n",
    "from keras.callbacks import ModelCheckpoint\n",
    "from sklearn.metrics import confusion_matrix\n",
    "from keras import regularizers\n",
    "from keras.callbacks import ModelCheckpoint, LearningRateScheduler, EarlyStopping\n",
    "from keras.callbacks import  History, ReduceLROnPlateau, CSVLogger\n",
    "from keras.models import Model, Sequential\n",
    "from keras.layers import Dense, Embedding, LSTM\n",
    "from keras.layers import Input, Flatten, Dropout, Activation, BatchNormalization\n",
    "from keras.layers import Conv1D, MaxPooling1D, AveragePooling1D\n",
    "from keras.preprocessing import sequence\n",
    "from keras.preprocessing.sequence import pad_sequences\n",
    "from keras.preprocessing.text import Tokenizer\n",
    "from keras.utils import np_utils\n",
    "from keras.utils import to_categorical\n",
    "from sklearn.model_selection import StratifiedShuffleSplit\n",
    "from sklearn.metrics import confusion_matrix\n",
    "from sklearn.preprocessing import LabelEncoder"
   ]
  },
  {
   "cell_type": "code",
   "execution_count": 0,
   "metadata": {
    "colab": {},
    "colab_type": "code",
    "id": "KGm9e-JEFgCf"
   },
   "outputs": [],
   "source": [
    "!pip install -U -q PyDrive\n",
    "from pydrive.auth import GoogleAuth\n",
    "from pydrive.drive import GoogleDrive\n",
    "from google.colab import auth\n",
    "from oauth2client.client import GoogleCredentials\n",
    "# Authenticate and create the PyDrive client.\n",
    "auth.authenticate_user()\n",
    "gauth = GoogleAuth()\n",
    "gauth.credentials = GoogleCredentials.get_application_default()\n",
    "drive = GoogleDrive(gauth)"
   ]
  },
  {
   "cell_type": "code",
   "execution_count": 34,
   "metadata": {
    "colab": {
     "base_uri": "https://localhost:8080/",
     "height": 122
    },
    "colab_type": "code",
    "id": "LB0lu3xszJNa",
    "outputId": "051fb048-c442-4c53-dd82-c8c6ea309181"
   },
   "outputs": [
    {
     "name": "stdout",
     "output_type": "stream",
     "text": [
      "Go to this URL in a browser: https://accounts.google.com/o/oauth2/auth?client_id=947318989803-6bn6qk8qdgf4n4g3pfee6491hc0brc4i.apps.googleusercontent.com&redirect_uri=urn%3Aietf%3Awg%3Aoauth%3A2.0%3Aoob&scope=email%20https%3A%2F%2Fwww.googleapis.com%2Fauth%2Fdocs.test%20https%3A%2F%2Fwww.googleapis.com%2Fauth%2Fdrive%20https%3A%2F%2Fwww.googleapis.com%2Fauth%2Fdrive.photos.readonly%20https%3A%2F%2Fwww.googleapis.com%2Fauth%2Fpeopleapi.readonly&response_type=code\n",
      "\n",
      "Enter your authorization code:\n",
      "··········\n",
      "Mounted at /content/drive\n"
     ]
    }
   ],
   "source": [
    "from google.colab import drive\n",
    "drive.mount('/content/drive')"
   ]
  },
  {
   "cell_type": "code",
   "execution_count": 0,
   "metadata": {
    "colab": {},
    "colab_type": "code",
    "id": "AXirGGW8zJNe"
   },
   "outputs": [],
   "source": [
    "# file_path = 'data_mfcc_aug.csv'\n",
    "# df = pd.read_csv(file_path)"
   ]
  },
  {
   "cell_type": "code",
   "execution_count": 0,
   "metadata": {
    "colab": {},
    "colab_type": "code",
    "id": "xzwYxVRWzJNj"
   },
   "outputs": [],
   "source": [
    "link = 'https://drive.google.com/open?id=1UcPoHcZgFmejItc1FcIO-SF0rErQhW7l'"
   ]
  },
  {
   "cell_type": "code",
   "execution_count": 4,
   "metadata": {
    "colab": {
     "base_uri": "https://localhost:8080/",
     "height": 34
    },
    "colab_type": "code",
    "id": "5XEW1RXizJNm",
    "outputId": "c9974c72-e358-429c-d8ed-56c43ca651f6"
   },
   "outputs": [
    {
     "name": "stdout",
     "output_type": "stream",
     "text": [
      "1UcPoHcZgFmejItc1FcIO-SF0rErQhW7l\n"
     ]
    }
   ],
   "source": [
    "fluff, id = link.split('=')\n",
    "print (id)"
   ]
  },
  {
   "cell_type": "code",
   "execution_count": 0,
   "metadata": {
    "colab": {},
    "colab_type": "code",
    "id": "zUIQDyWKzJNq"
   },
   "outputs": [],
   "source": [
    "downloaded = drive.CreateFile({'id':id}) \n",
    "downloaded.GetContentFile('Filename.csv')  \n",
    "df = pd.read_csv('Filename.csv')"
   ]
  },
  {
   "cell_type": "code",
   "execution_count": 6,
   "metadata": {
    "colab": {
     "base_uri": "https://localhost:8080/",
     "height": 253
    },
    "colab_type": "code",
    "id": "JW4ku9LCzJNu",
    "outputId": "80fb6373-39be-448e-afc7-a6b0537a359c"
   },
   "outputs": [
    {
     "data": {
      "text/html": [
       "<div>\n",
       "<style scoped>\n",
       "    .dataframe tbody tr th:only-of-type {\n",
       "        vertical-align: middle;\n",
       "    }\n",
       "\n",
       "    .dataframe tbody tr th {\n",
       "        vertical-align: top;\n",
       "    }\n",
       "\n",
       "    .dataframe thead th {\n",
       "        text-align: right;\n",
       "    }\n",
       "</style>\n",
       "<table border=\"1\" class=\"dataframe\">\n",
       "  <thead>\n",
       "    <tr style=\"text-align: right;\">\n",
       "      <th></th>\n",
       "      <th>0</th>\n",
       "      <th>1</th>\n",
       "      <th>2</th>\n",
       "      <th>3</th>\n",
       "      <th>4</th>\n",
       "      <th>5</th>\n",
       "      <th>6</th>\n",
       "      <th>7</th>\n",
       "      <th>8</th>\n",
       "      <th>9</th>\n",
       "      <th>10</th>\n",
       "      <th>11</th>\n",
       "      <th>12</th>\n",
       "      <th>13</th>\n",
       "      <th>14</th>\n",
       "      <th>15</th>\n",
       "      <th>16</th>\n",
       "      <th>17</th>\n",
       "      <th>18</th>\n",
       "      <th>19</th>\n",
       "      <th>20</th>\n",
       "      <th>21</th>\n",
       "      <th>22</th>\n",
       "      <th>23</th>\n",
       "      <th>24</th>\n",
       "      <th>25</th>\n",
       "      <th>26</th>\n",
       "      <th>27</th>\n",
       "      <th>28</th>\n",
       "      <th>29</th>\n",
       "      <th>30</th>\n",
       "      <th>31</th>\n",
       "      <th>32</th>\n",
       "      <th>33</th>\n",
       "      <th>34</th>\n",
       "      <th>35</th>\n",
       "      <th>36</th>\n",
       "      <th>37</th>\n",
       "      <th>38</th>\n",
       "      <th>39</th>\n",
       "      <th>...</th>\n",
       "      <th>220</th>\n",
       "      <th>221</th>\n",
       "      <th>222</th>\n",
       "      <th>223</th>\n",
       "      <th>224</th>\n",
       "      <th>225</th>\n",
       "      <th>226</th>\n",
       "      <th>227</th>\n",
       "      <th>228</th>\n",
       "      <th>229</th>\n",
       "      <th>230</th>\n",
       "      <th>231</th>\n",
       "      <th>232</th>\n",
       "      <th>233</th>\n",
       "      <th>234</th>\n",
       "      <th>235</th>\n",
       "      <th>236</th>\n",
       "      <th>237</th>\n",
       "      <th>238</th>\n",
       "      <th>239</th>\n",
       "      <th>240</th>\n",
       "      <th>241</th>\n",
       "      <th>242</th>\n",
       "      <th>243</th>\n",
       "      <th>244</th>\n",
       "      <th>245</th>\n",
       "      <th>246</th>\n",
       "      <th>247</th>\n",
       "      <th>248</th>\n",
       "      <th>249</th>\n",
       "      <th>250</th>\n",
       "      <th>251</th>\n",
       "      <th>252</th>\n",
       "      <th>253</th>\n",
       "      <th>254</th>\n",
       "      <th>255</th>\n",
       "      <th>256</th>\n",
       "      <th>257</th>\n",
       "      <th>258</th>\n",
       "      <th>label</th>\n",
       "    </tr>\n",
       "  </thead>\n",
       "  <tbody>\n",
       "    <tr>\n",
       "      <th>0</th>\n",
       "      <td>-14.146636</td>\n",
       "      <td>-17.393934</td>\n",
       "      <td>-26.673644</td>\n",
       "      <td>-27.698061</td>\n",
       "      <td>-28.248122</td>\n",
       "      <td>-27.999279</td>\n",
       "      <td>-29.438322</td>\n",
       "      <td>-28.523528</td>\n",
       "      <td>-27.600598</td>\n",
       "      <td>-29.086704</td>\n",
       "      <td>-28.436230</td>\n",
       "      <td>-27.801527</td>\n",
       "      <td>-29.623006</td>\n",
       "      <td>-27.825924</td>\n",
       "      <td>-26.674306</td>\n",
       "      <td>-28.907570</td>\n",
       "      <td>-29.277048</td>\n",
       "      <td>-29.163086</td>\n",
       "      <td>-30.233022</td>\n",
       "      <td>-30.204329</td>\n",
       "      <td>-28.489634</td>\n",
       "      <td>-28.533290</td>\n",
       "      <td>-28.132981</td>\n",
       "      <td>-28.788838</td>\n",
       "      <td>-30.630235</td>\n",
       "      <td>-32.432407</td>\n",
       "      <td>-32.812527</td>\n",
       "      <td>-34.377095</td>\n",
       "      <td>-33.312813</td>\n",
       "      <td>-32.216379</td>\n",
       "      <td>-33.013817</td>\n",
       "      <td>-31.297935</td>\n",
       "      <td>-29.993079</td>\n",
       "      <td>-29.299199</td>\n",
       "      <td>-31.068256</td>\n",
       "      <td>-29.913259</td>\n",
       "      <td>-29.377382</td>\n",
       "      <td>-29.839246</td>\n",
       "      <td>-29.119795</td>\n",
       "      <td>-28.283690</td>\n",
       "      <td>...</td>\n",
       "      <td>-28.745329</td>\n",
       "      <td>-28.745329</td>\n",
       "      <td>-28.745329</td>\n",
       "      <td>-28.745329</td>\n",
       "      <td>-28.745329</td>\n",
       "      <td>-28.745329</td>\n",
       "      <td>-28.745329</td>\n",
       "      <td>-28.745329</td>\n",
       "      <td>-28.745329</td>\n",
       "      <td>-28.745329</td>\n",
       "      <td>-28.745329</td>\n",
       "      <td>-28.745329</td>\n",
       "      <td>-28.745329</td>\n",
       "      <td>-28.745329</td>\n",
       "      <td>-28.745329</td>\n",
       "      <td>-28.745329</td>\n",
       "      <td>-28.745329</td>\n",
       "      <td>-28.745329</td>\n",
       "      <td>-28.745329</td>\n",
       "      <td>-28.745329</td>\n",
       "      <td>-28.745329</td>\n",
       "      <td>-28.745329</td>\n",
       "      <td>-28.745329</td>\n",
       "      <td>-28.745329</td>\n",
       "      <td>-28.745329</td>\n",
       "      <td>-28.745329</td>\n",
       "      <td>-28.745329</td>\n",
       "      <td>-28.745329</td>\n",
       "      <td>-28.745329</td>\n",
       "      <td>-28.745329</td>\n",
       "      <td>-28.745329</td>\n",
       "      <td>-28.745329</td>\n",
       "      <td>-28.745329</td>\n",
       "      <td>-28.745329</td>\n",
       "      <td>-28.745329</td>\n",
       "      <td>-28.745329</td>\n",
       "      <td>-28.745329</td>\n",
       "      <td>-28.745329</td>\n",
       "      <td>-28.745329</td>\n",
       "      <td>anger</td>\n",
       "    </tr>\n",
       "    <tr>\n",
       "      <th>1</th>\n",
       "      <td>-9.861386</td>\n",
       "      <td>-13.770627</td>\n",
       "      <td>-29.714045</td>\n",
       "      <td>-31.259181</td>\n",
       "      <td>-31.670597</td>\n",
       "      <td>-31.526615</td>\n",
       "      <td>-30.456018</td>\n",
       "      <td>-30.308974</td>\n",
       "      <td>-30.708918</td>\n",
       "      <td>-30.035270</td>\n",
       "      <td>-29.998729</td>\n",
       "      <td>-28.793871</td>\n",
       "      <td>-27.684876</td>\n",
       "      <td>-29.309347</td>\n",
       "      <td>-30.036294</td>\n",
       "      <td>-28.813113</td>\n",
       "      <td>-28.577816</td>\n",
       "      <td>-29.090744</td>\n",
       "      <td>-28.417809</td>\n",
       "      <td>-25.838464</td>\n",
       "      <td>-23.530718</td>\n",
       "      <td>-26.328635</td>\n",
       "      <td>-29.858001</td>\n",
       "      <td>-33.069657</td>\n",
       "      <td>-32.338191</td>\n",
       "      <td>-30.328793</td>\n",
       "      <td>-32.082000</td>\n",
       "      <td>-31.883746</td>\n",
       "      <td>-29.980646</td>\n",
       "      <td>-29.918410</td>\n",
       "      <td>-31.911311</td>\n",
       "      <td>-31.798070</td>\n",
       "      <td>-33.513264</td>\n",
       "      <td>-30.224310</td>\n",
       "      <td>-29.216732</td>\n",
       "      <td>-31.212392</td>\n",
       "      <td>-30.194077</td>\n",
       "      <td>-29.074113</td>\n",
       "      <td>-30.084365</td>\n",
       "      <td>-27.593959</td>\n",
       "      <td>...</td>\n",
       "      <td>-27.292245</td>\n",
       "      <td>-26.791113</td>\n",
       "      <td>-26.796997</td>\n",
       "      <td>-26.096467</td>\n",
       "      <td>-25.208309</td>\n",
       "      <td>-29.111453</td>\n",
       "      <td>-29.111453</td>\n",
       "      <td>-29.111453</td>\n",
       "      <td>-29.111453</td>\n",
       "      <td>-29.111453</td>\n",
       "      <td>-29.111453</td>\n",
       "      <td>-29.111453</td>\n",
       "      <td>-29.111453</td>\n",
       "      <td>-29.111453</td>\n",
       "      <td>-29.111453</td>\n",
       "      <td>-29.111453</td>\n",
       "      <td>-29.111453</td>\n",
       "      <td>-29.111453</td>\n",
       "      <td>-29.111453</td>\n",
       "      <td>-29.111453</td>\n",
       "      <td>-29.111453</td>\n",
       "      <td>-29.111453</td>\n",
       "      <td>-29.111453</td>\n",
       "      <td>-29.111453</td>\n",
       "      <td>-29.111453</td>\n",
       "      <td>-29.111453</td>\n",
       "      <td>-29.111453</td>\n",
       "      <td>-29.111453</td>\n",
       "      <td>-29.111453</td>\n",
       "      <td>-29.111453</td>\n",
       "      <td>-29.111453</td>\n",
       "      <td>-29.111453</td>\n",
       "      <td>-29.111453</td>\n",
       "      <td>-29.111453</td>\n",
       "      <td>-29.111453</td>\n",
       "      <td>-29.111453</td>\n",
       "      <td>-29.111453</td>\n",
       "      <td>-29.111453</td>\n",
       "      <td>-29.111453</td>\n",
       "      <td>anger</td>\n",
       "    </tr>\n",
       "    <tr>\n",
       "      <th>2</th>\n",
       "      <td>-16.649676</td>\n",
       "      <td>-20.601113</td>\n",
       "      <td>-33.157565</td>\n",
       "      <td>-31.901663</td>\n",
       "      <td>-30.799279</td>\n",
       "      <td>-30.905825</td>\n",
       "      <td>-31.841404</td>\n",
       "      <td>-32.618360</td>\n",
       "      <td>-27.456481</td>\n",
       "      <td>-26.398847</td>\n",
       "      <td>-30.497426</td>\n",
       "      <td>-32.347955</td>\n",
       "      <td>-31.818124</td>\n",
       "      <td>-30.670661</td>\n",
       "      <td>-30.339094</td>\n",
       "      <td>-31.010371</td>\n",
       "      <td>-30.887000</td>\n",
       "      <td>-27.998359</td>\n",
       "      <td>-27.633115</td>\n",
       "      <td>-29.438499</td>\n",
       "      <td>-33.932094</td>\n",
       "      <td>-35.050232</td>\n",
       "      <td>-35.734625</td>\n",
       "      <td>-35.551207</td>\n",
       "      <td>-34.120291</td>\n",
       "      <td>-34.501502</td>\n",
       "      <td>-32.434834</td>\n",
       "      <td>-31.180655</td>\n",
       "      <td>-33.479445</td>\n",
       "      <td>-33.276338</td>\n",
       "      <td>-31.557041</td>\n",
       "      <td>-31.107274</td>\n",
       "      <td>-29.765307</td>\n",
       "      <td>-29.045640</td>\n",
       "      <td>-28.061166</td>\n",
       "      <td>-26.538132</td>\n",
       "      <td>-27.416181</td>\n",
       "      <td>-27.422723</td>\n",
       "      <td>-28.187787</td>\n",
       "      <td>-27.824533</td>\n",
       "      <td>...</td>\n",
       "      <td>-36.940158</td>\n",
       "      <td>-30.320206</td>\n",
       "      <td>-30.320206</td>\n",
       "      <td>-30.320206</td>\n",
       "      <td>-30.320206</td>\n",
       "      <td>-30.320206</td>\n",
       "      <td>-30.320206</td>\n",
       "      <td>-30.320206</td>\n",
       "      <td>-30.320206</td>\n",
       "      <td>-30.320206</td>\n",
       "      <td>-30.320206</td>\n",
       "      <td>-30.320206</td>\n",
       "      <td>-30.320206</td>\n",
       "      <td>-30.320206</td>\n",
       "      <td>-30.320206</td>\n",
       "      <td>-30.320206</td>\n",
       "      <td>-30.320206</td>\n",
       "      <td>-30.320206</td>\n",
       "      <td>-30.320206</td>\n",
       "      <td>-30.320206</td>\n",
       "      <td>-30.320206</td>\n",
       "      <td>-30.320206</td>\n",
       "      <td>-30.320206</td>\n",
       "      <td>-30.320206</td>\n",
       "      <td>-30.320206</td>\n",
       "      <td>-30.320206</td>\n",
       "      <td>-30.320206</td>\n",
       "      <td>-30.320206</td>\n",
       "      <td>-30.320206</td>\n",
       "      <td>-30.320206</td>\n",
       "      <td>-30.320206</td>\n",
       "      <td>-30.320206</td>\n",
       "      <td>-30.320206</td>\n",
       "      <td>-30.320206</td>\n",
       "      <td>-30.320206</td>\n",
       "      <td>-30.320206</td>\n",
       "      <td>-30.320206</td>\n",
       "      <td>-30.320206</td>\n",
       "      <td>-30.320206</td>\n",
       "      <td>anger</td>\n",
       "    </tr>\n",
       "    <tr>\n",
       "      <th>3</th>\n",
       "      <td>-13.563900</td>\n",
       "      <td>-16.855584</td>\n",
       "      <td>-27.072878</td>\n",
       "      <td>-28.570732</td>\n",
       "      <td>-28.295611</td>\n",
       "      <td>-27.895841</td>\n",
       "      <td>-28.099773</td>\n",
       "      <td>-28.243841</td>\n",
       "      <td>-29.134636</td>\n",
       "      <td>-29.515783</td>\n",
       "      <td>-28.764103</td>\n",
       "      <td>-29.238323</td>\n",
       "      <td>-28.333651</td>\n",
       "      <td>-26.144534</td>\n",
       "      <td>-25.418085</td>\n",
       "      <td>-26.303245</td>\n",
       "      <td>-25.523040</td>\n",
       "      <td>-27.209278</td>\n",
       "      <td>-26.317451</td>\n",
       "      <td>-25.639733</td>\n",
       "      <td>-28.318018</td>\n",
       "      <td>-29.239732</td>\n",
       "      <td>-29.911734</td>\n",
       "      <td>-31.129468</td>\n",
       "      <td>-29.447193</td>\n",
       "      <td>-24.282428</td>\n",
       "      <td>-27.020032</td>\n",
       "      <td>-32.456369</td>\n",
       "      <td>-32.368488</td>\n",
       "      <td>-34.001333</td>\n",
       "      <td>-34.099794</td>\n",
       "      <td>-32.300204</td>\n",
       "      <td>-32.485214</td>\n",
       "      <td>-33.456334</td>\n",
       "      <td>-32.427148</td>\n",
       "      <td>-32.519549</td>\n",
       "      <td>-34.012126</td>\n",
       "      <td>-31.795253</td>\n",
       "      <td>-31.723228</td>\n",
       "      <td>-30.415406</td>\n",
       "      <td>...</td>\n",
       "      <td>-24.190413</td>\n",
       "      <td>-25.124869</td>\n",
       "      <td>-24.971255</td>\n",
       "      <td>-24.995052</td>\n",
       "      <td>-24.199807</td>\n",
       "      <td>-23.153656</td>\n",
       "      <td>-21.766557</td>\n",
       "      <td>-21.951646</td>\n",
       "      <td>-23.311520</td>\n",
       "      <td>-23.880534</td>\n",
       "      <td>-24.144269</td>\n",
       "      <td>-27.227011</td>\n",
       "      <td>-29.579303</td>\n",
       "      <td>-32.368997</td>\n",
       "      <td>-34.686619</td>\n",
       "      <td>-36.158392</td>\n",
       "      <td>-34.120696</td>\n",
       "      <td>-29.357926</td>\n",
       "      <td>-29.357926</td>\n",
       "      <td>-29.357926</td>\n",
       "      <td>-29.357926</td>\n",
       "      <td>-29.357926</td>\n",
       "      <td>-29.357926</td>\n",
       "      <td>-29.357926</td>\n",
       "      <td>-29.357926</td>\n",
       "      <td>-29.357926</td>\n",
       "      <td>-29.357926</td>\n",
       "      <td>-29.357926</td>\n",
       "      <td>-29.357926</td>\n",
       "      <td>-29.357926</td>\n",
       "      <td>-29.357926</td>\n",
       "      <td>-29.357926</td>\n",
       "      <td>-29.357926</td>\n",
       "      <td>-29.357926</td>\n",
       "      <td>-29.357926</td>\n",
       "      <td>-29.357926</td>\n",
       "      <td>-29.357926</td>\n",
       "      <td>-29.357926</td>\n",
       "      <td>-29.357926</td>\n",
       "      <td>anger</td>\n",
       "    </tr>\n",
       "    <tr>\n",
       "      <th>4</th>\n",
       "      <td>-16.221396</td>\n",
       "      <td>-19.342689</td>\n",
       "      <td>-27.604158</td>\n",
       "      <td>-30.221644</td>\n",
       "      <td>-27.598509</td>\n",
       "      <td>-26.778208</td>\n",
       "      <td>-27.475236</td>\n",
       "      <td>-21.830539</td>\n",
       "      <td>-16.241639</td>\n",
       "      <td>-14.319386</td>\n",
       "      <td>-16.126212</td>\n",
       "      <td>-18.179747</td>\n",
       "      <td>-18.064499</td>\n",
       "      <td>-16.938136</td>\n",
       "      <td>-16.130984</td>\n",
       "      <td>-15.842817</td>\n",
       "      <td>-18.510806</td>\n",
       "      <td>-20.087254</td>\n",
       "      <td>-17.873478</td>\n",
       "      <td>-16.535487</td>\n",
       "      <td>-18.306381</td>\n",
       "      <td>-20.240482</td>\n",
       "      <td>-17.309386</td>\n",
       "      <td>-16.205117</td>\n",
       "      <td>-16.413778</td>\n",
       "      <td>-19.689037</td>\n",
       "      <td>-21.499997</td>\n",
       "      <td>-23.876233</td>\n",
       "      <td>-23.843727</td>\n",
       "      <td>-21.144655</td>\n",
       "      <td>-18.325292</td>\n",
       "      <td>-16.878853</td>\n",
       "      <td>-15.910794</td>\n",
       "      <td>-16.272808</td>\n",
       "      <td>-16.977892</td>\n",
       "      <td>-16.657692</td>\n",
       "      <td>-17.467181</td>\n",
       "      <td>-18.638013</td>\n",
       "      <td>-19.054953</td>\n",
       "      <td>-20.464455</td>\n",
       "      <td>...</td>\n",
       "      <td>-24.806228</td>\n",
       "      <td>-24.806228</td>\n",
       "      <td>-24.806228</td>\n",
       "      <td>-24.806228</td>\n",
       "      <td>-24.806228</td>\n",
       "      <td>-24.806228</td>\n",
       "      <td>-24.806228</td>\n",
       "      <td>-24.806228</td>\n",
       "      <td>-24.806228</td>\n",
       "      <td>-24.806228</td>\n",
       "      <td>-24.806228</td>\n",
       "      <td>-24.806228</td>\n",
       "      <td>-24.806228</td>\n",
       "      <td>-24.806228</td>\n",
       "      <td>-24.806228</td>\n",
       "      <td>-24.806228</td>\n",
       "      <td>-24.806228</td>\n",
       "      <td>-24.806228</td>\n",
       "      <td>-24.806228</td>\n",
       "      <td>-24.806228</td>\n",
       "      <td>-24.806228</td>\n",
       "      <td>-24.806228</td>\n",
       "      <td>-24.806228</td>\n",
       "      <td>-24.806228</td>\n",
       "      <td>-24.806228</td>\n",
       "      <td>-24.806228</td>\n",
       "      <td>-24.806228</td>\n",
       "      <td>-24.806228</td>\n",
       "      <td>-24.806228</td>\n",
       "      <td>-24.806228</td>\n",
       "      <td>-24.806228</td>\n",
       "      <td>-24.806228</td>\n",
       "      <td>-24.806228</td>\n",
       "      <td>-24.806228</td>\n",
       "      <td>-24.806228</td>\n",
       "      <td>-24.806228</td>\n",
       "      <td>-24.806228</td>\n",
       "      <td>-24.806228</td>\n",
       "      <td>-24.806228</td>\n",
       "      <td>anger</td>\n",
       "    </tr>\n",
       "  </tbody>\n",
       "</table>\n",
       "<p>5 rows × 260 columns</p>\n",
       "</div>"
      ],
      "text/plain": [
       "           0          1          2  ...        257        258  label\n",
       "0 -14.146636 -17.393934 -26.673644  ... -28.745329 -28.745329  anger\n",
       "1  -9.861386 -13.770627 -29.714045  ... -29.111453 -29.111453  anger\n",
       "2 -16.649676 -20.601113 -33.157565  ... -30.320206 -30.320206  anger\n",
       "3 -13.563900 -16.855584 -27.072878  ... -29.357926 -29.357926  anger\n",
       "4 -16.221396 -19.342689 -27.604158  ... -24.806228 -24.806228  anger\n",
       "\n",
       "[5 rows x 260 columns]"
      ]
     },
     "execution_count": 6,
     "metadata": {
      "tags": []
     },
     "output_type": "execute_result"
    }
   ],
   "source": [
    "df.head()"
   ]
  },
  {
   "cell_type": "code",
   "execution_count": 7,
   "metadata": {
    "colab": {
     "base_uri": "https://localhost:8080/",
     "height": 68
    },
    "colab_type": "code",
    "id": "UNBCpRNxzJN0",
    "outputId": "6e6e75a4-1b88-4fd1-edec-ceb0a8735389"
   },
   "outputs": [
    {
     "name": "stdout",
     "output_type": "stream",
     "text": [
      "Number of observations in training data:  10264\n",
      "Number of observations in cross validation data:  773\n",
      "Number of observations in test data:  831\n"
     ]
    }
   ],
   "source": [
    "#shuffle the dataframe\n",
    "df = df.sample(frac=1).reset_index(drop=True)\n",
    "\n",
    "df_train, df_test = train_test_split(df, stratify = df['label'], test_size = 0.07)\n",
    "df_train, df_cv = train_test_split(df_train, stratify = df_train['label'], test_size = 0.07)\n",
    "print('Number of observations in training data: ', len(df_train))\n",
    "print('Number of observations in cross validation data: ', len(df_cv))\n",
    "print('Number of observations in test data: ', len(df_test))"
   ]
  },
  {
   "cell_type": "code",
   "execution_count": 0,
   "metadata": {
    "colab": {},
    "colab_type": "code",
    "id": "AoOO-yyAzJN3"
   },
   "outputs": [],
   "source": [
    "df_train = df_train.reset_index(drop=True)\n",
    "df_cv = df_cv.reset_index(drop=True)\n",
    "df_test = df_test.reset_index(drop=True)"
   ]
  },
  {
   "cell_type": "code",
   "execution_count": 0,
   "metadata": {
    "colab": {},
    "colab_type": "code",
    "id": "E4LrjOHuzJN7"
   },
   "outputs": [],
   "source": [
    "# function to plot graphs\n",
    "# https://seaborn.pydata.org/generated/seaborn.countplot.html\n",
    "\n",
    "def plot_bar_graph(df, title):\n",
    "    fig = plt.figure(figsize = (10, 6))\n",
    "    ax = fig.add_axes([0,0,1,1])\n",
    "    ax.set_title(title, fontsize = 15)\n",
    "    sns.countplot(x = \"label\", data = df)\n",
    "    for i in ax.patches:\n",
    "        ax.text(x = i.get_x() + 0.2, y = i.get_height()+1.5, s = str(i.get_height()), fontsize = 20, color = \"grey\")\n",
    "    plt.xlabel(\"\")\n",
    "    plt.ylabel(\"Count\", fontsize = 10)\n",
    "    plt.tick_params(labelsize = 10)\n",
    "    plt.xticks(rotation = 40)\n",
    "    plt.show()"
   ]
  },
  {
   "cell_type": "code",
   "execution_count": 10,
   "metadata": {
    "colab": {
     "base_uri": "https://localhost:8080/",
     "height": 647
    },
    "colab_type": "code",
    "id": "u4sla4YszJOS",
    "outputId": "684f5232-b0c6-4f79-e43a-ce6a9cdc31b3"
   },
   "outputs": [
    {
     "data": {
      "image/png": "[encoded data removed]",
      "text/plain": [
       "<Figure size 720x432 with 1 Axes>"
      ]
     },
     "metadata": {
      "tags": []
     },
     "output_type": "display_data"
    },
    {
     "name": "stdout",
     "output_type": "stream",
     "text": [
      "Percentage of images to fear: 16.0853% (1651)\n",
      "Percentage of images to happiness: 16.0853% (1651)\n",
      "Percentage of images to anger: 16.0756% (1650)\n",
      "Percentage of images to sadness: 16.0756% (1650)\n",
      "Percentage of images to neutral: 12.841% (1318)\n",
      "Percentage of images to surprise: 11.4186% (1172)\n",
      "Percentage of images to disgust: 11.4186% (1172)\n"
     ]
    }
   ],
   "source": [
    "# plotting graph of training dataset\n",
    "plot_bar_graph(df_train, 'Training dataset')\n",
    "x = df_train['label'].value_counts()\n",
    "for i in range(len(x.index)):\n",
    "    print(f'Percentage of images to {x.index[i]}: {np.round((x[i]/len(df_train))*100, 4)}% ({x[i]})')"
   ]
  },
  {
   "cell_type": "code",
   "execution_count": 11,
   "metadata": {
    "colab": {
     "base_uri": "https://localhost:8080/",
     "height": 647
    },
    "colab_type": "code",
    "id": "CR1Ea-ajzJOV",
    "outputId": "f558db20-49a4-4a92-f395-642836c39ed1"
   },
   "outputs": [
    {
     "data": {
      "image/png": "[encoded data removed]",
      "text/plain": [
       "<Figure size 720x432 with 1 Axes>"
      ]
     },
     "metadata": {
      "tags": []
     },
     "output_type": "display_data"
    },
    {
     "name": "stdout",
     "output_type": "stream",
     "text": [
      "Percentage of images to anger: 16.0414% (124)\n",
      "Percentage of images to fear: 16.0414% (124)\n",
      "Percentage of images to sadness: 16.0414% (124)\n",
      "Percentage of images to happiness: 16.0414% (124)\n",
      "Percentage of images to neutral: 12.8072% (99)\n",
      "Percentage of images to surprise: 11.5136% (89)\n",
      "Percentage of images to disgust: 11.5136% (89)\n"
     ]
    }
   ],
   "source": [
    "# plotting graph of training dataset\n",
    "plot_bar_graph(df_cv, 'Cross Validation dataset')\n",
    "x = df_cv['label'].value_counts()\n",
    "for i in range(len(x.index)):\n",
    "    print(f'Percentage of images to {x.index[i]}: {np.round((x[i]/len(df_cv))*100, 4)}% ({x[i]})')"
   ]
  },
  {
   "cell_type": "code",
   "execution_count": 12,
   "metadata": {
    "colab": {
     "base_uri": "https://localhost:8080/",
     "height": 647
    },
    "colab_type": "code",
    "id": "-JU5zg6nzJOZ",
    "outputId": "31b4d47f-ed58-4b36-940e-2929ba831b92"
   },
   "outputs": [
    {
     "data": {
      "image/png": "[encoded data removed]",
      "text/plain": [
       "<Figure size 720x432 with 1 Axes>"
      ]
     },
     "metadata": {
      "tags": []
     },
     "output_type": "display_data"
    },
    {
     "name": "stdout",
     "output_type": "stream",
     "text": [
      "Percentage of images to anger: 16.1252% (134)\n",
      "Percentage of images to sadness: 16.1252% (134)\n",
      "Percentage of images to fear: 16.0048% (133)\n",
      "Percentage of images to happiness: 16.0048% (133)\n",
      "Percentage of images to neutral: 12.8761% (107)\n",
      "Percentage of images to surprise: 11.432% (95)\n",
      "Percentage of images to disgust: 11.432% (95)\n"
     ]
    }
   ],
   "source": [
    "# plotting graph of training dataset\n",
    "plot_bar_graph(df_test, 'Test dataset')\n",
    "x = df_test['label'].value_counts()\n",
    "for i in range(len(x.index)):\n",
    "    print(f'Percentage of images to {x.index[i]}: {np.round((x[i]/len(df_test))*100, 4)}% ({x[i]})')"
   ]
  },
  {
   "cell_type": "code",
   "execution_count": 0,
   "metadata": {
    "colab": {},
    "colab_type": "code",
    "id": "_pU622IczJOd"
   },
   "outputs": [],
   "source": []
  },
  {
   "cell_type": "code",
   "execution_count": 0,
   "metadata": {
    "colab": {},
    "colab_type": "code",
    "id": "_6LO-ELOzJPA"
   },
   "outputs": [],
   "source": [
    "X_train = df_train.drop(['label'], axis = 1)\n",
    "X_test = df_test.drop(['label'], axis = 1)\n",
    "X_cv = df_cv.drop(['label'], axis = 1)\n",
    "\n",
    "y_train = df_train.label\n",
    "y_test = df_test.label\n",
    "y_cv = df_cv.label"
   ]
  },
  {
   "cell_type": "code",
   "execution_count": 14,
   "metadata": {
    "colab": {
     "base_uri": "https://localhost:8080/",
     "height": 153
    },
    "colab_type": "code",
    "id": "omyC00EVFohG",
    "outputId": "7c2a0b58-450d-4239-e891-c7abcf614ec9"
   },
   "outputs": [
    {
     "data": {
      "text/plain": [
       "fear         1651\n",
       "happiness    1651\n",
       "anger        1650\n",
       "sadness      1650\n",
       "neutral      1318\n",
       "surprise     1172\n",
       "disgust      1172\n",
       "Name: label, dtype: int64"
      ]
     },
     "execution_count": 14,
     "metadata": {
      "tags": []
     },
     "output_type": "execute_result"
    }
   ],
   "source": [
    "y_train.value_counts()"
   ]
  },
  {
   "cell_type": "code",
   "execution_count": 15,
   "metadata": {
    "colab": {
     "base_uri": "https://localhost:8080/",
     "height": 153
    },
    "colab_type": "code",
    "id": "FT7ZkjvJFoel",
    "outputId": "9bff6f3a-7ecf-481e-81e1-b429a1f39658"
   },
   "outputs": [
    {
     "data": {
      "text/plain": [
       "anger        134\n",
       "sadness      134\n",
       "fear         133\n",
       "happiness    133\n",
       "neutral      107\n",
       "surprise      95\n",
       "disgust       95\n",
       "Name: label, dtype: int64"
      ]
     },
     "execution_count": 15,
     "metadata": {
      "tags": []
     },
     "output_type": "execute_result"
    }
   ],
   "source": [
    "y_test.value_counts()"
   ]
  },
  {
   "cell_type": "code",
   "execution_count": 0,
   "metadata": {
    "colab": {},
    "colab_type": "code",
    "id": "XUHDHMDRFoXb"
   },
   "outputs": [],
   "source": [
    "X_train = np.array(X_train)\n",
    "y_train = np.array(y_train)\n",
    "\n",
    "\n",
    "X_test = np.array(X_test)\n",
    "y_test = np.array(y_test)\n",
    "\n",
    "X_cv = np.array(X_cv)\n",
    "y_cv = np.array(y_cv)\n",
    "\n",
    "lb = LabelEncoder()\n",
    "y_train = np_utils.to_categorical(lb.fit_transform(y_train))\n",
    "y_test = np_utils.to_categorical(lb.fit_transform(y_test))\n",
    "y_cv = np_utils.to_categorical(lb.fit_transform(y_cv))"
   ]
  },
  {
   "cell_type": "code",
   "execution_count": 18,
   "metadata": {
    "colab": {
     "base_uri": "https://localhost:8080/",
     "height": 34
    },
    "colab_type": "code",
    "id": "gK1oq3KpFoT3",
    "outputId": "416fce8b-d021-482d-8fea-3b0470321249"
   },
   "outputs": [
    {
     "data": {
      "text/plain": [
       "(10264, 259)"
      ]
     },
     "execution_count": 18,
     "metadata": {
      "tags": []
     },
     "output_type": "execute_result"
    }
   ],
   "source": [
    "X_train.shape"
   ]
  },
  {
   "cell_type": "markdown",
   "metadata": {},
   "source": [
    "__Training Phase__"
   ]
  },
  {
   "cell_type": "code",
   "execution_count": 0,
   "metadata": {
    "colab": {},
    "colab_type": "code",
    "id": "hbnX5k2rFoQi"
   },
   "outputs": [],
   "source": [
    "x_traincnn = np.expand_dims(X_train, axis=2)\n",
    "x_testcnn = np.expand_dims(X_test, axis=2)\n",
    "x_cvcnn = np.expand_dims(X_cv, axis = 2)"
   ]
  },
  {
   "cell_type": "code",
   "execution_count": 20,
   "metadata": {
    "colab": {
     "base_uri": "https://localhost:8080/",
     "height": 258
    },
    "colab_type": "code",
    "id": "eGuKE2eAFoON",
    "outputId": "3d52c4ee-dd26-4f3d-a34d-46ca96cf555c"
   },
   "outputs": [
    {
     "name": "stdout",
     "output_type": "stream",
     "text": [
      "WARNING:tensorflow:From /usr/local/lib/python3.6/dist-packages/keras/backend/tensorflow_backend.py:66: The name tf.get_default_graph is deprecated. Please use tf.compat.v1.get_default_graph instead.\n",
      "\n",
      "WARNING:tensorflow:From /usr/local/lib/python3.6/dist-packages/keras/backend/tensorflow_backend.py:541: The name tf.placeholder is deprecated. Please use tf.compat.v1.placeholder instead.\n",
      "\n",
      "WARNING:tensorflow:From /usr/local/lib/python3.6/dist-packages/keras/backend/tensorflow_backend.py:4432: The name tf.random_uniform is deprecated. Please use tf.random.uniform instead.\n",
      "\n",
      "WARNING:tensorflow:From /usr/local/lib/python3.6/dist-packages/keras/backend/tensorflow_backend.py:148: The name tf.placeholder_with_default is deprecated. Please use tf.compat.v1.placeholder_with_default instead.\n",
      "\n",
      "WARNING:tensorflow:From /usr/local/lib/python3.6/dist-packages/keras/backend/tensorflow_backend.py:3733: calling dropout (from tensorflow.python.ops.nn_ops) with keep_prob is deprecated and will be removed in a future version.\n",
      "Instructions for updating:\n",
      "Please use `rate` instead of `keep_prob`. Rate should be set to `rate = 1 - keep_prob`.\n",
      "WARNING:tensorflow:From /usr/local/lib/python3.6/dist-packages/keras/backend/tensorflow_backend.py:4267: The name tf.nn.max_pool is deprecated. Please use tf.nn.max_pool2d instead.\n",
      "\n"
     ]
    }
   ],
   "source": [
    "model = Sequential()\n",
    "model.add(Conv1D(259, 8, padding='same',input_shape=(X_train.shape[1],1)))\n",
    "model.add(Activation('relu'))\n",
    "model.add(Conv1D(256, 8, padding='same'))\n",
    "model.add(BatchNormalization())\n",
    "model.add(Activation('relu'))\n",
    "model.add(Dropout(0.25))\n",
    "model.add(MaxPooling1D(pool_size=(8)))\n",
    "model.add(Conv1D(128, 8, padding='same'))\n",
    "model.add(Activation('relu'))\n",
    "model.add(Conv1D(128, 8, padding='same'))\n",
    "model.add(Activation('relu'))\n",
    "model.add(Conv1D(128, 8, padding='same'))\n",
    "model.add(Activation('relu'))\n",
    "model.add(Conv1D(128, 8, padding='same'))\n",
    "model.add(BatchNormalization())\n",
    "model.add(Activation('relu'))\n",
    "model.add(Dropout(0.25))\n",
    "model.add(MaxPooling1D(pool_size=(8)))\n",
    "model.add(Conv1D(64, 8, padding='same'))\n",
    "model.add(Activation('relu'))\n",
    "model.add(Conv1D(64, 8, padding='same'))\n",
    "model.add(Activation('relu'))\n",
    "model.add(Flatten())\n",
    "model.add(Dense(7))\n",
    "model.add(Activation('softmax'))\n",
    "opt = keras.optimizers.SGD(lr=0.0001, momentum=0.0, decay=0.0, nesterov=False)"
   ]
  },
  {
   "cell_type": "code",
   "execution_count": 21,
   "metadata": {
    "colab": {
     "base_uri": "https://localhost:8080/",
     "height": 105
    },
    "colab_type": "code",
    "id": "___YsImiFoLh",
    "outputId": "cce07d9f-8580-4e2f-c6bb-b66cee40e3f8"
   },
   "outputs": [
    {
     "name": "stdout",
     "output_type": "stream",
     "text": [
      "WARNING:tensorflow:From /usr/local/lib/python3.6/dist-packages/keras/optimizers.py:793: The name tf.train.Optimizer is deprecated. Please use tf.compat.v1.train.Optimizer instead.\n",
      "\n",
      "WARNING:tensorflow:From /usr/local/lib/python3.6/dist-packages/keras/backend/tensorflow_backend.py:3576: The name tf.log is deprecated. Please use tf.math.log instead.\n",
      "\n"
     ]
    }
   ],
   "source": [
    "model.compile(loss='categorical_crossentropy', optimizer=opt, metrics=['accuracy'])"
   ]
  },
  {
   "cell_type": "code",
   "execution_count": 22,
   "metadata": {
    "colab": {
     "base_uri": "https://localhost:8080/",
     "height": 1000
    },
    "colab_type": "code",
    "id": "IGAaWNMpFoIw",
    "outputId": "849e5950-9947-41b0-e29e-6ac469c39b48"
   },
   "outputs": [
    {
     "name": "stdout",
     "output_type": "stream",
     "text": [
      "WARNING:tensorflow:From /usr/local/lib/python3.6/dist-packages/tensorflow_core/python/ops/math_grad.py:1424: where (from tensorflow.python.ops.array_ops) is deprecated and will be removed in a future version.\n",
      "Instructions for updating:\n",
      "Use tf.where in 2.0, which has the same broadcast rule as np.where\n",
      "WARNING:tensorflow:From /usr/local/lib/python3.6/dist-packages/keras/backend/tensorflow_backend.py:1033: The name tf.assign_add is deprecated. Please use tf.compat.v1.assign_add instead.\n",
      "\n",
      "WARNING:tensorflow:From /usr/local/lib/python3.6/dist-packages/keras/backend/tensorflow_backend.py:1020: The name tf.assign is deprecated. Please use tf.compat.v1.assign instead.\n",
      "\n",
      "WARNING:tensorflow:From /usr/local/lib/python3.6/dist-packages/keras/backend/tensorflow_backend.py:3005: The name tf.Session is deprecated. Please use tf.compat.v1.Session instead.\n",
      "\n",
      "Train on 10264 samples, validate on 773 samples\n",
      "Epoch 1/80\n",
      "WARNING:tensorflow:From /usr/local/lib/python3.6/dist-packages/keras/backend/tensorflow_backend.py:190: The name tf.get_default_session is deprecated. Please use tf.compat.v1.get_default_session instead.\n",
      "\n",
      "WARNING:tensorflow:From /usr/local/lib/python3.6/dist-packages/keras/backend/tensorflow_backend.py:197: The name tf.ConfigProto is deprecated. Please use tf.compat.v1.ConfigProto instead.\n",
      "\n",
      "WARNING:tensorflow:From /usr/local/lib/python3.6/dist-packages/keras/backend/tensorflow_backend.py:207: The name tf.global_variables is deprecated. Please use tf.compat.v1.global_variables instead.\n",
      "\n",
      "WARNING:tensorflow:From /usr/local/lib/python3.6/dist-packages/keras/backend/tensorflow_backend.py:216: The name tf.is_variable_initialized is deprecated. Please use tf.compat.v1.is_variable_initialized instead.\n",
      "\n",
      "WARNING:tensorflow:From /usr/local/lib/python3.6/dist-packages/keras/backend/tensorflow_backend.py:223: The name tf.variables_initializer is deprecated. Please use tf.compat.v1.variables_initializer instead.\n",
      "\n",
      "10264/10264 [==============================] - 269s 26ms/step - loss: 1.9247 - acc: 0.2005 - val_loss: 1.8833 - val_acc: 0.2277\n",
      "Epoch 2/80\n",
      "10264/10264 [==============================] - 269s 26ms/step - loss: 1.8329 - acc: 0.2833 - val_loss: 1.8492 - val_acc: 0.2717\n",
      "Epoch 3/80\n",
      "10264/10264 [==============================] - 267s 26ms/step - loss: 1.7805 - acc: 0.3373 - val_loss: 1.8001 - val_acc: 0.3273\n",
      "Epoch 4/80\n",
      "10264/10264 [==============================] - 265s 26ms/step - loss: 1.7297 - acc: 0.3744 - val_loss: 1.7859 - val_acc: 0.3118\n",
      "Epoch 5/80\n",
      "10264/10264 [==============================] - 267s 26ms/step - loss: 1.6755 - acc: 0.4121 - val_loss: 1.7489 - val_acc: 0.3441\n",
      "Epoch 6/80\n",
      "10264/10264 [==============================] - 265s 26ms/step - loss: 1.6338 - acc: 0.4385 - val_loss: 1.6906 - val_acc: 0.4657\n",
      "Epoch 7/80\n",
      "10264/10264 [==============================] - 266s 26ms/step - loss: 1.5890 - acc: 0.4597 - val_loss: 1.6704 - val_acc: 0.4567\n",
      "Epoch 8/80\n",
      "10264/10264 [==============================] - 266s 26ms/step - loss: 1.5495 - acc: 0.4717 - val_loss: 1.6381 - val_acc: 0.4709\n",
      "Epoch 9/80\n",
      "10264/10264 [==============================] - 267s 26ms/step - loss: 1.5126 - acc: 0.4880 - val_loss: 1.6384 - val_acc: 0.4088\n",
      "Epoch 10/80\n",
      "10264/10264 [==============================] - 267s 26ms/step - loss: 1.4819 - acc: 0.4950 - val_loss: 1.6073 - val_acc: 0.4554\n",
      "Epoch 11/80\n",
      "10264/10264 [==============================] - 267s 26ms/step - loss: 1.4420 - acc: 0.5098 - val_loss: 1.5369 - val_acc: 0.4994\n",
      "Epoch 12/80\n",
      "10264/10264 [==============================] - 267s 26ms/step - loss: 1.4129 - acc: 0.5188 - val_loss: 1.4994 - val_acc: 0.5278\n",
      "Epoch 13/80\n",
      "10264/10264 [==============================] - 264s 26ms/step - loss: 1.3835 - acc: 0.5259 - val_loss: 1.4832 - val_acc: 0.5524\n",
      "Epoch 14/80\n",
      "10264/10264 [==============================] - 264s 26ms/step - loss: 1.3585 - acc: 0.5255 - val_loss: 1.4820 - val_acc: 0.5097\n",
      "Epoch 15/80\n",
      "10264/10264 [==============================] - 264s 26ms/step - loss: 1.3313 - acc: 0.5420 - val_loss: 1.4397 - val_acc: 0.5485\n",
      "Epoch 16/80\n",
      "10264/10264 [==============================] - 266s 26ms/step - loss: 1.3133 - acc: 0.5409 - val_loss: 1.4078 - val_acc: 0.5537\n",
      "Epoch 17/80\n",
      "10264/10264 [==============================] - 266s 26ms/step - loss: 1.2877 - acc: 0.5548 - val_loss: 1.4295 - val_acc: 0.5162\n",
      "Epoch 18/80\n",
      "10264/10264 [==============================] - 267s 26ms/step - loss: 1.2653 - acc: 0.5593 - val_loss: 1.4391 - val_acc: 0.5019\n",
      "Epoch 19/80\n",
      "10264/10264 [==============================] - 269s 26ms/step - loss: 1.2441 - acc: 0.5670 - val_loss: 1.3806 - val_acc: 0.5524\n",
      "Epoch 20/80\n",
      "10264/10264 [==============================] - 269s 26ms/step - loss: 1.2314 - acc: 0.5628 - val_loss: 1.4201 - val_acc: 0.4748\n",
      "Epoch 21/80\n",
      "10264/10264 [==============================] - 268s 26ms/step - loss: 1.2089 - acc: 0.5802 - val_loss: 1.4231 - val_acc: 0.5058\n",
      "Epoch 22/80\n",
      "10264/10264 [==============================] - 268s 26ms/step - loss: 1.2045 - acc: 0.5783 - val_loss: 1.3530 - val_acc: 0.5524\n",
      "Epoch 23/80\n",
      "10264/10264 [==============================] - 268s 26ms/step - loss: 1.1821 - acc: 0.5853 - val_loss: 1.3153 - val_acc: 0.5472\n",
      "Epoch 24/80\n",
      "10264/10264 [==============================] - 269s 26ms/step - loss: 1.1678 - acc: 0.5846 - val_loss: 1.2974 - val_acc: 0.5627\n",
      "Epoch 25/80\n",
      "10264/10264 [==============================] - 267s 26ms/step - loss: 1.1521 - acc: 0.5937 - val_loss: 1.2710 - val_acc: 0.5705\n",
      "Epoch 26/80\n",
      "10264/10264 [==============================] - 270s 26ms/step - loss: 1.1429 - acc: 0.5936 - val_loss: 1.2808 - val_acc: 0.5589\n",
      "Epoch 27/80\n",
      "10264/10264 [==============================] - 269s 26ms/step - loss: 1.1275 - acc: 0.5994 - val_loss: 1.2698 - val_acc: 0.5576\n",
      "Epoch 28/80\n",
      "10264/10264 [==============================] - 269s 26ms/step - loss: 1.1127 - acc: 0.6051 - val_loss: 1.2205 - val_acc: 0.5990\n",
      "Epoch 29/80\n",
      "10264/10264 [==============================] - 269s 26ms/step - loss: 1.1014 - acc: 0.6086 - val_loss: 1.3066 - val_acc: 0.5382\n",
      "Epoch 30/80\n",
      "10264/10264 [==============================] - 268s 26ms/step - loss: 1.0918 - acc: 0.6117 - val_loss: 1.2443 - val_acc: 0.5860\n",
      "Epoch 31/80\n",
      "10264/10264 [==============================] - 268s 26ms/step - loss: 1.0729 - acc: 0.6212 - val_loss: 1.2729 - val_acc: 0.5511\n",
      "Epoch 32/80\n",
      "10264/10264 [==============================] - 271s 26ms/step - loss: 1.0656 - acc: 0.6215 - val_loss: 1.1895 - val_acc: 0.5977\n",
      "Epoch 33/80\n",
      "10264/10264 [==============================] - 270s 26ms/step - loss: 1.0650 - acc: 0.6216 - val_loss: 1.1965 - val_acc: 0.6184\n",
      "Epoch 34/80\n",
      "10264/10264 [==============================] - 268s 26ms/step - loss: 1.0503 - acc: 0.6263 - val_loss: 1.2857 - val_acc: 0.5226\n",
      "Epoch 35/80\n",
      "10264/10264 [==============================] - 265s 26ms/step - loss: 1.0376 - acc: 0.6309 - val_loss: 1.2145 - val_acc: 0.5796\n",
      "Epoch 36/80\n",
      "10264/10264 [==============================] - 266s 26ms/step - loss: 1.0220 - acc: 0.6381 - val_loss: 1.1984 - val_acc: 0.5964\n",
      "Epoch 37/80\n",
      "10264/10264 [==============================] - 265s 26ms/step - loss: 1.0133 - acc: 0.6449 - val_loss: 1.1742 - val_acc: 0.6028\n",
      "Epoch 38/80\n",
      "10264/10264 [==============================] - 266s 26ms/step - loss: 1.0086 - acc: 0.6438 - val_loss: 1.3566 - val_acc: 0.4605\n",
      "Epoch 39/80\n",
      "10264/10264 [==============================] - 268s 26ms/step - loss: 0.9964 - acc: 0.6481 - val_loss: 1.2342 - val_acc: 0.5666\n",
      "Epoch 40/80\n",
      "10264/10264 [==============================] - 267s 26ms/step - loss: 0.9852 - acc: 0.6523 - val_loss: 1.1713 - val_acc: 0.5925\n",
      "Epoch 41/80\n",
      "10264/10264 [==============================] - 267s 26ms/step - loss: 0.9762 - acc: 0.6534 - val_loss: 1.1251 - val_acc: 0.6106\n",
      "Epoch 42/80\n",
      "10264/10264 [==============================] - 266s 26ms/step - loss: 0.9778 - acc: 0.6523 - val_loss: 1.1187 - val_acc: 0.6223\n",
      "Epoch 43/80\n",
      "10264/10264 [==============================] - 267s 26ms/step - loss: 0.9479 - acc: 0.6654 - val_loss: 1.1549 - val_acc: 0.6054\n",
      "Epoch 44/80\n",
      "10264/10264 [==============================] - 267s 26ms/step - loss: 0.9480 - acc: 0.6659 - val_loss: 1.1106 - val_acc: 0.6339\n",
      "Epoch 45/80\n",
      "10264/10264 [==============================] - 269s 26ms/step - loss: 0.9341 - acc: 0.6761 - val_loss: 1.1472 - val_acc: 0.5770\n",
      "Epoch 46/80\n",
      "10264/10264 [==============================] - 274s 27ms/step - loss: 0.9280 - acc: 0.6714 - val_loss: 1.1313 - val_acc: 0.6158\n",
      "Epoch 47/80\n",
      "10264/10264 [==============================] - 275s 27ms/step - loss: 0.9211 - acc: 0.6786 - val_loss: 1.1470 - val_acc: 0.5886\n",
      "Epoch 48/80\n",
      "10264/10264 [==============================] - 274s 27ms/step - loss: 0.9155 - acc: 0.6784 - val_loss: 1.1204 - val_acc: 0.6041\n",
      "Epoch 49/80\n",
      "10264/10264 [==============================] - 272s 26ms/step - loss: 0.9104 - acc: 0.6768 - val_loss: 1.0842 - val_acc: 0.6235\n",
      "Epoch 50/80\n",
      "10264/10264 [==============================] - 271s 26ms/step - loss: 0.8931 - acc: 0.6872 - val_loss: 1.0974 - val_acc: 0.5990\n",
      "Epoch 51/80\n",
      "10264/10264 [==============================] - 267s 26ms/step - loss: 0.8847 - acc: 0.6918 - val_loss: 1.1086 - val_acc: 0.6171\n",
      "Epoch 52/80\n",
      "10264/10264 [==============================] - 269s 26ms/step - loss: 0.8891 - acc: 0.6847 - val_loss: 1.0313 - val_acc: 0.6572\n",
      "Epoch 53/80\n",
      "10264/10264 [==============================] - 271s 26ms/step - loss: 0.8699 - acc: 0.6954 - val_loss: 1.0638 - val_acc: 0.6184\n",
      "Epoch 54/80\n",
      "10264/10264 [==============================] - 270s 26ms/step - loss: 0.8673 - acc: 0.6962 - val_loss: 1.0183 - val_acc: 0.6429\n",
      "Epoch 55/80\n",
      "10264/10264 [==============================] - 270s 26ms/step - loss: 0.8549 - acc: 0.7027 - val_loss: 1.0612 - val_acc: 0.6352\n",
      "Epoch 56/80\n",
      "10264/10264 [==============================] - 272s 27ms/step - loss: 0.8463 - acc: 0.7033 - val_loss: 1.1189 - val_acc: 0.6016\n",
      "Epoch 57/80\n",
      "10264/10264 [==============================] - 269s 26ms/step - loss: 0.8438 - acc: 0.7061 - val_loss: 1.0378 - val_acc: 0.6287\n",
      "Epoch 58/80\n",
      "10264/10264 [==============================] - 272s 27ms/step - loss: 0.8368 - acc: 0.7056 - val_loss: 1.1392 - val_acc: 0.5938\n",
      "Epoch 59/80\n",
      "10264/10264 [==============================] - 275s 27ms/step - loss: 0.8268 - acc: 0.7158 - val_loss: 1.0404 - val_acc: 0.6546\n",
      "Epoch 60/80\n",
      "10264/10264 [==============================] - 266s 26ms/step - loss: 0.8142 - acc: 0.7110 - val_loss: 1.0221 - val_acc: 0.6442\n",
      "Epoch 61/80\n",
      "10264/10264 [==============================] - 263s 26ms/step - loss: 0.8062 - acc: 0.7228 - val_loss: 0.9669 - val_acc: 0.6701\n",
      "Epoch 62/80\n",
      "10264/10264 [==============================] - 262s 25ms/step - loss: 0.8052 - acc: 0.7158 - val_loss: 1.0209 - val_acc: 0.6313\n",
      "Epoch 63/80\n",
      "10264/10264 [==============================] - 262s 26ms/step - loss: 0.7965 - acc: 0.7217 - val_loss: 0.9924 - val_acc: 0.6766\n",
      "Epoch 64/80\n",
      "10264/10264 [==============================] - 261s 25ms/step - loss: 0.7865 - acc: 0.7290 - val_loss: 0.9632 - val_acc: 0.6869\n",
      "Epoch 65/80\n",
      "10264/10264 [==============================] - 260s 25ms/step - loss: 0.7759 - acc: 0.7321 - val_loss: 1.0023 - val_acc: 0.6598\n",
      "Epoch 66/80\n",
      "10264/10264 [==============================] - 260s 25ms/step - loss: 0.7693 - acc: 0.7333 - val_loss: 0.9829 - val_acc: 0.6766\n",
      "Epoch 67/80\n",
      "10264/10264 [==============================] - 261s 25ms/step - loss: 0.7657 - acc: 0.7296 - val_loss: 1.0225 - val_acc: 0.6429\n",
      "Epoch 68/80\n",
      "10264/10264 [==============================] - 260s 25ms/step - loss: 0.7595 - acc: 0.7376 - val_loss: 0.9479 - val_acc: 0.6779\n",
      "Epoch 69/80\n",
      "10264/10264 [==============================] - 261s 25ms/step - loss: 0.7500 - acc: 0.7381 - val_loss: 0.9797 - val_acc: 0.6598\n",
      "Epoch 70/80\n",
      "10264/10264 [==============================] - 258s 25ms/step - loss: 0.7422 - acc: 0.7397 - val_loss: 0.9892 - val_acc: 0.6779\n",
      "Epoch 71/80\n",
      "10264/10264 [==============================] - 258s 25ms/step - loss: 0.7381 - acc: 0.7461 - val_loss: 1.0029 - val_acc: 0.6481\n",
      "Epoch 72/80\n",
      "10264/10264 [==============================] - 259s 25ms/step - loss: 0.7315 - acc: 0.7492 - val_loss: 0.9630 - val_acc: 0.6559\n",
      "Epoch 73/80\n",
      "10264/10264 [==============================] - 259s 25ms/step - loss: 0.7182 - acc: 0.7519 - val_loss: 0.9248 - val_acc: 0.6869\n",
      "Epoch 74/80\n",
      "10264/10264 [==============================] - 259s 25ms/step - loss: 0.7141 - acc: 0.7558 - val_loss: 0.9363 - val_acc: 0.6856\n",
      "Epoch 75/80\n",
      "10264/10264 [==============================] - 259s 25ms/step - loss: 0.7032 - acc: 0.7550 - val_loss: 0.9756 - val_acc: 0.6688\n",
      "Epoch 76/80\n",
      "10264/10264 [==============================] - 258s 25ms/step - loss: 0.6961 - acc: 0.7578 - val_loss: 0.9783 - val_acc: 0.6429\n",
      "Epoch 77/80\n",
      "10264/10264 [==============================] - 260s 25ms/step - loss: 0.6962 - acc: 0.7584 - val_loss: 0.8874 - val_acc: 0.6999\n",
      "Epoch 78/80\n",
      "10264/10264 [==============================] - 261s 25ms/step - loss: 0.6925 - acc: 0.7609 - val_loss: 1.0818 - val_acc: 0.5744\n",
      "Epoch 79/80\n",
      "10264/10264 [==============================] - 261s 25ms/step - loss: 0.6807 - acc: 0.7647 - val_loss: 0.9306 - val_acc: 0.6598\n",
      "Epoch 80/80\n",
      "10264/10264 [==============================] - 259s 25ms/step - loss: 0.6733 - acc: 0.7688 - val_loss: 0.8673 - val_acc: 0.7167\n"
     ]
    }
   ],
   "source": [
    "cnnhistory=model.fit(x_traincnn, y_train, batch_size=16, epochs=80, validation_data=(x_cvcnn, y_cv))"
   ]
  },
  {
   "cell_type": "code",
   "execution_count": 25,
   "metadata": {
    "colab": {
     "base_uri": "https://localhost:8080/",
     "height": 295
    },
    "colab_type": "code",
    "id": "XoFiFQj9zJP-",
    "outputId": "3cc90015-79ea-41fa-dbc5-20faef8d15f6"
   },
   "outputs": [
    {
     "data": {
      "image/png": "[encoded data removed]",
      "text/plain": [
       "<Figure size 432x288 with 1 Axes>"
      ]
     },
     "metadata": {
      "tags": []
     },
     "output_type": "display_data"
    }
   ],
   "source": [
    "#plotting the graph of training and cross-validation loss\n",
    "\n",
    "plt.plot(cnnhistory.history['loss'])\n",
    "plt.plot(cnnhistory.history['val_loss'])\n",
    "plt.title('Model Loss vs Epochs')\n",
    "plt.ylabel('Loss')\n",
    "plt.xlabel('Epoch')\n",
    "plt.legend(['train', 'validation'], loc='upper left')\n",
    "plt.show()"
   ]
  },
  {
   "cell_type": "code",
   "execution_count": 26,
   "metadata": {
    "colab": {
     "base_uri": "https://localhost:8080/",
     "height": 295
    },
    "colab_type": "code",
    "id": "7cjroKMz5i9-",
    "outputId": "a2d6874d-b852-4d92-cc62-3bf1193914f0"
   },
   "outputs": [
    {
     "data": {
      "image/png": "[encoded data removed]",
      "text/plain": [
       "<Figure size 432x288 with 1 Axes>"
      ]
     },
     "metadata": {
      "tags": []
     },
     "output_type": "display_data"
    }
   ],
   "source": [
    "#plotting the graph of training and cross-validation accuracy\n",
    "\n",
    "plt.plot(cnnhistory.history['acc'])\n",
    "plt.plot(cnnhistory.history['val_acc'])\n",
    "plt.title('Model Accuracy vs epochs')\n",
    "plt.ylabel('Accuracy')\n",
    "plt.xlabel('Epoch')\n",
    "plt.legend(['train', 'validation'], loc='upper left')\n",
    "plt.show()"
   ]
  },
  {
   "cell_type": "code",
   "execution_count": 27,
   "metadata": {
    "colab": {
     "base_uri": "https://localhost:8080/",
     "height": 51
    },
    "colab_type": "code",
    "id": "EyQqe87QFoGH",
    "outputId": "746404a2-90f1-46a4-f931-a3217f83943b"
   },
   "outputs": [
    {
     "name": "stdout",
     "output_type": "stream",
     "text": [
      "831/831 [==============================] - 5s 6ms/step\n",
      "Accuracy on test data: 73.53%\n"
     ]
    }
   ],
   "source": [
    "score, acc = model.evaluate(x_testcnn, y_test)\n",
    "print(\"Accuracy on test data: %.2f%%\" % (acc*100))"
   ]
  },
  {
   "cell_type": "code",
   "execution_count": 0,
   "metadata": {
    "colab": {},
    "colab_type": "code",
    "id": "yR1aqwuSzJQK"
   },
   "outputs": [],
   "source": [
    "def convert_labels(y_prob):\n",
    "    y = [np.argmax(i) for i in y_prob]\n",
    "    y = np.array(y, dtype = np.int32)\n",
    "    return y"
   ]
  },
  {
   "cell_type": "code",
   "execution_count": 0,
   "metadata": {
    "colab": {},
    "colab_type": "code",
    "id": "5pPiAWDXzJQP"
   },
   "outputs": [],
   "source": []
  },
  {
   "cell_type": "code",
   "execution_count": 0,
   "metadata": {
    "colab": {
     "base_uri": "https://localhost:8080/",
     "height": 51
    },
    "colab_type": "code",
    "id": "HwfbdK_bFoCR",
    "outputId": "295b0aba-ac75-4220-8125-6e73b85d9e14"
   },
   "outputs": [
    {
     "name": "stdout",
     "output_type": "stream",
     "text": [
      "Test score: 1.1456040372438194\n",
      "Test accuracy: 0.614732725213062\n"
     ]
    }
   ],
   "source": [
    "print('Test score:', score)\n",
    "print('Test accuracy:', acc)"
   ]
  },
  {
   "cell_type": "code",
   "execution_count": 30,
   "metadata": {
    "colab": {
     "base_uri": "https://localhost:8080/",
     "height": 504
    },
    "colab_type": "code",
    "id": "khsBrTyUFn4w",
    "outputId": "8f0229fa-a747-4192-b3f9-46457366b640"
   },
   "outputs": [
    {
     "data": {
      "image/png": "[encoded data removed]",
      "text/plain": [
       "<Figure size 1152x504 with 2 Axes>"
      ]
     },
     "metadata": {
      "tags": []
     },
     "output_type": "display_data"
    }
   ],
   "source": [
    "# plotting confusion matrix for train data\n",
    "# https://www.kaggle.com/diegosch/classifier-evaluation-using-confusion-matrix\n",
    "\n",
    "y_train_pred = model.predict(x_traincnn)\n",
    "\n",
    "cm = confusion_matrix(convert_labels(y_train), convert_labels(y_train_pred))\n",
    "labels = [\"ANGRY\", \"DISGUST\", \"FEAR\", \"HAPPY\", \"NEUTRAL\", \"SAD\", \"SURPRISE\"]\n",
    "cm_df = pd.DataFrame(cm, index = labels, columns = labels)\n",
    "\n",
    "# plt.figure(figsize=(16, 8))\n",
    "plt.figure(figsize=(16,7))\n",
    "sns.heatmap(cm, cmap = plt.get_cmap('Reds'), annot = True, fmt = \".1f\", xticklabels=labels, yticklabels=labels)\n",
    "plt.title(\"Confusion Matrix for train data\", fontsize = 15)\n",
    "plt.xlabel('Predicted Class', fontsize = 15)\n",
    "plt.ylabel('Original Class', fontsize = 15)\n",
    "plt.tick_params(labelsize = 10)\n",
    "plt.xticks(rotation = 90)\n",
    "plt.show()"
   ]
  },
  {
   "cell_type": "code",
   "execution_count": 32,
   "metadata": {
    "colab": {
     "base_uri": "https://localhost:8080/",
     "height": 504
    },
    "colab_type": "code",
    "id": "iNTp_4joFn1v",
    "outputId": "12f24bf7-dcef-49ec-9cdd-03dd643a474e"
   },
   "outputs": [
    {
     "data": {
      "image/png": "[encoded data removed]",
      "text/plain": [
       "<Figure size 1152x504 with 2 Axes>"
      ]
     },
     "metadata": {
      "tags": []
     },
     "output_type": "display_data"
    }
   ],
   "source": [
    "# plotting confusion matrix for validation data\n",
    "# https://www.kaggle.com/diegosch/classifier-evaluation-using-confusion-matrix\n",
    "\n",
    "y_cv_pred = model.predict(x_cvcnn)\n",
    "\n",
    "cm = confusion_matrix(convert_labels(y_cv), convert_labels(y_cv_pred))\n",
    "labels = [\"ANGRY\", \"DISGUST\", \"FEAR\", \"HAPPY\", \"NEUTRAL\", \"SAD\", \"SURPRISE\"]\n",
    "cm_df = pd.DataFrame(cm, index = labels, columns = labels)\n",
    "\n",
    "# plt.figure(figsize=(16, 8))\n",
    "plt.figure(figsize=(16,7))\n",
    "sns.heatmap(cm, cmap = plt.get_cmap('Reds'), annot = True, fmt = \".1f\", xticklabels=labels, yticklabels=labels)\n",
    "plt.title(\"Confusion Matrix for validation data\", fontsize = 15)\n",
    "plt.xlabel('Predicted Class', fontsize = 15)\n",
    "plt.ylabel('Original Class', fontsize = 15)\n",
    "plt.tick_params(labelsize = 10)\n",
    "plt.xticks(rotation = 90)\n",
    "plt.show()"
   ]
  },
  {
   "cell_type": "code",
   "execution_count": 33,
   "metadata": {
    "colab": {
     "base_uri": "https://localhost:8080/",
     "height": 504
    },
    "colab_type": "code",
    "id": "bSk7ZS3WFnyf",
    "outputId": "e4bb4a71-f728-4429-baec-94684e707f6a"
   },
   "outputs": [
    {
     "data": {
      "image/png": "[encoded data removed]",
      "text/plain": [
       "<Figure size 1152x504 with 2 Axes>"
      ]
     },
     "metadata": {
      "tags": []
     },
     "output_type": "display_data"
    }
   ],
   "source": [
    "# plotting confusion matrix for test data\n",
    "# https://www.kaggle.com/diegosch/classifier-evaluation-using-confusion-matrix\n",
    "\n",
    "y_test_pred = model.predict(x_testcnn)\n",
    "\n",
    "cm = confusion_matrix(convert_labels(y_test), convert_labels(y_test_pred))\n",
    "labels = [\"ANGRY\", \"DISGUST\", \"FEAR\", \"HAPPY\", \"NEUTRAL\", \"SAD\", \"SURPRISE\"]\n",
    "cm_df = pd.DataFrame(cm, index = labels, columns = labels)\n",
    "\n",
    "# plt.figure(figsize=(16, 8))\n",
    "plt.figure(figsize=(16,7))\n",
    "sns.heatmap(cm, cmap = plt.get_cmap('Reds'), annot = True, fmt = \".1f\", xticklabels=labels, yticklabels=labels)\n",
    "plt.title(\"Confusion Matrix for test data\", fontsize = 15)\n",
    "plt.xlabel('Predicted Class', fontsize = 15)\n",
    "plt.ylabel('Original Class', fontsize = 15)\n",
    "plt.tick_params(labelsize = 10)\n",
    "plt.xticks(rotation = 90)\n",
    "plt.show()"
   ]
  },
  {
   "cell_type": "code",
   "execution_count": 35,
   "metadata": {
    "colab": {
     "base_uri": "https://localhost:8080/",
     "height": 224
    },
    "colab_type": "code",
    "id": "wc88oI4SzJQr",
    "outputId": "a06ee201-d17d-4835-e9ca-f33dc090a065"
   },
   "outputs": [
    {
     "name": "stdout",
     "output_type": "stream",
     "text": [
      "E: Package 'python-software-properties' has no installation candidate\n",
      "Selecting previously unselected package google-drive-ocamlfuse.\n",
      "(Reading database ... 132681 files and directories currently installed.)\n",
      "Preparing to unpack .../google-drive-ocamlfuse_0.7.13-0ubuntu1~ubuntu18.04.1_amd64.deb ...\n",
      "Unpacking google-drive-ocamlfuse (0.7.13-0ubuntu1~ubuntu18.04.1) ...\n",
      "Setting up google-drive-ocamlfuse (0.7.13-0ubuntu1~ubuntu18.04.1) ...\n",
      "Processing triggers for man-db (2.8.3-2ubuntu0.1) ...\n",
      "Please, open the following URL in a web browser: https://accounts.google.com/o/oauth2/auth?client_id=32555940559.apps.googleusercontent.com&redirect_uri=urn%3Aietf%3Awg%3Aoauth%3A2.0%3Aoob&scope=https%3A%2F%2Fwww.googleapis.com%2Fauth%2Fdrive&response_type=code&access_type=offline&approval_prompt=force\n",
      "··········\n",
      "Please, open the following URL in a web browser: https://accounts.google.com/o/oauth2/auth?client_id=32555940559.apps.googleusercontent.com&redirect_uri=urn%3Aietf%3Awg%3Aoauth%3A2.0%3Aoob&scope=https%3A%2F%2Fwww.googleapis.com%2Fauth%2Fdrive&response_type=code&access_type=offline&approval_prompt=force\n",
      "Please enter the verification code: Access token retrieved correctly.\n"
     ]
    }
   ],
   "source": [
    "!apt-get install -y -qq software-properties-common python-software-properties module-init-tools\n",
    "!add-apt-repository -y ppa:alessandro-strada/ppa 2>&1 > /dev/null\n",
    "!apt-get update -qq 2>&1 > /dev/null\n",
    "!apt-get -y install -qq google-drive-ocamlfuse fuse\n",
    "from google.colab import auth\n",
    "auth.authenticate_user()\n",
    "from oauth2client.client import GoogleCredentials\n",
    "creds = GoogleCredentials.get_application_default()\n",
    "import getpass\n",
    "!google-drive-ocamlfuse -headless -id={creds.client_id} -secret={creds.client_secret} < /dev/null 2>&1 | grep URL\n",
    "vcode = getpass.getpass()\n",
    "!echo {vcode} | google-drive-ocamlfuse -headless -id={creds.client_id} -secret={creds.client_secret}"
   ]
  },
  {
   "cell_type": "code",
   "execution_count": 36,
   "metadata": {
    "colab": {
     "base_uri": "https://localhost:8080/",
     "height": 51
    },
    "colab_type": "code",
    "id": "Op_8hBHUzJQy",
    "outputId": "f27afa0e-be53-4c64-be5c-416e70463b70"
   },
   "outputs": [
    {
     "name": "stdout",
     "output_type": "stream",
     "text": [
      "fuse: mountpoint is not empty\n",
      "fuse: if you are sure this is safe, use the 'nonempty' mount option\n"
     ]
    }
   ],
   "source": [
    "!mkdir -p drive\n",
    "!google-drive-ocamlfuse drive"
   ]
  },
  {
   "cell_type": "code",
   "execution_count": 37,
   "metadata": {
    "colab": {
     "base_uri": "https://localhost:8080/",
     "height": 34
    },
    "colab_type": "code",
    "id": "FMr-zBMwzJRZ",
    "outputId": "932a7fd9-e9dd-439a-f9cb-e6f50aafd86a"
   },
   "outputs": [
    {
     "name": "stdout",
     "output_type": "stream",
     "text": [
      "Saved model to drive\n"
     ]
    }
   ],
   "source": [
    "model_json = model.to_json()\n",
    "with open(\"drive/My Drive/model_audio_1.json\", \"w\") as json_file:\n",
    "    json_file.write(model_json)\n",
    "# serialize weights to HDF5\n",
    "model.save_weights(\"drive/My Drive/model_audio_1_weights.h5\")\n",
    "print(\"Saved model to drive\")"
   ]
  },
  {
   "cell_type": "code",
   "execution_count": 0,
   "metadata": {
    "colab": {},
    "colab_type": "code",
    "id": "5_UCzQFMzJRy"
   },
   "outputs": [],
   "source": []
  },
  {
   "cell_type": "code",
   "execution_count": 0,
   "metadata": {
    "colab": {},
    "colab_type": "code",
    "id": "eGxWP-eAFnvX"
   },
   "outputs": [],
   "source": []
  }
 ],
 "metadata": {
  "accelerator": "TPU",
  "colab": {
   "collapsed_sections": [],
   "name": "colab_m3.ipynb",
   "provenance": []
  },
  "kernelspec": {
   "display_name": "Python 3",
   "language": "python",
   "name": "python3"
  },
  "language_info": {
   "codemirror_mode": {
    "name": "ipython",
    "version": 3
   },
   "file_extension": ".py",
   "mimetype": "text/x-python",
   "name": "python",
   "nbconvert_exporter": "python",
   "pygments_lexer": "ipython3",
   "version": "3.7.4"
  }
 },
 "nbformat": 4,
 "nbformat_minor": 1
}
